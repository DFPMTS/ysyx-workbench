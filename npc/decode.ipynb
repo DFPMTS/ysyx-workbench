{
 "cells": [
  {
   "cell_type": "code",
   "execution_count": 1,
   "metadata": {},
   "outputs": [],
   "source": [
    "import csv\n",
    "\n",
    "csvfile = open(\"decode.csv\")\n",
    "insts = csv.DictReader(csvfile)\n",
    "insts = list(filter(lambda x: x[\"pat\"] != \"\", insts))\n",
    "for i in insts:\n",
    "    i[\"name\"] = i[\"name\"].strip()\n",
    "# reg_we\n",
    "# op1_sel\n",
    "# op2_sel\n",
    "# op1_U\n",
    "# op2_U\n",
    "# alu_sel\n",
    "# wb_sel\n",
    "# invalid\n",
    "# break"
   ]
  },
  {
   "cell_type": "code",
   "execution_count": 2,
   "metadata": {},
   "outputs": [],
   "source": [
    "def process_fill_zero(inst):\n",
    "    opt_fields = [\"reg_we\", \"op1_U\", \"op2_U\"]\n",
    "    for field in opt_fields:\n",
    "        inst[field] = int(inst[field] == \"1\")\n",
    "    inst[\"invalid\"] = \"0\"\n",
    "    inst[\"break\"] = int(inst[\"name\"] == \"ebreak\")\n",
    "    # return inst"
   ]
  },
  {
   "cell_type": "code",
   "execution_count": 3,
   "metadata": {},
   "outputs": [],
   "source": [
    "def process_op_sel(inst):\n",
    "    op1_sel_dict = {\"rs1\": \"00\", \"pc\": \"01\", \"zero\": \"10\", \"\": \"??\"}\n",
    "    op2_sel_dict = {\"rs2\": \"0\", \"imm\": \"1\", \"\": \"?\"}\n",
    "    inst[\"op1_sel\"] = op1_sel_dict[inst[\"op1_sel\"]]\n",
    "    inst[\"op2_sel\"] = op2_sel_dict[inst[\"op2_sel\"]]\n",
    "    return inst"
   ]
  },
  {
   "cell_type": "code",
   "execution_count": 4,
   "metadata": {},
   "outputs": [],
   "source": [
    "def process_alu_sel(inst):\n",
    "    alu_sel = [\n",
    "        \"add\",\n",
    "        \"sub\",\n",
    "        \"left\",\n",
    "        \"right\",\n",
    "        \"arithmetic\",\n",
    "        \"lt\",\n",
    "        \"and\",\n",
    "        \"or\",\n",
    "        \"xor\",\n",
    "        \"mul\",\n",
    "        \"mulh\",\n",
    "        \"div\",\n",
    "        \"rem\",\n",
    "    ]\n",
    "    alu_sel_dict = {\"\": \"????\"}\n",
    "    for i in range(len(alu_sel)):\n",
    "        alu_sel_dict[alu_sel[i]] = str(bin(i))[2:].zfill(4)\n",
    "    inst[\"alu_sel\"] = alu_sel_dict[inst[\"alu_sel\"]]\n",
    "    # return inst"
   ]
  },
  {
   "cell_type": "code",
   "execution_count": 5,
   "metadata": {},
   "outputs": [],
   "source": [
    "def process_wb_sel(inst):\n",
    "    wb_sel_dict = {\"alu\": \"00\", \"mem\": \"01\", \"snpc\": \"10\", \"\": \"??\"}\n",
    "    inst[\"wb_sel\"] = wb_sel_dict[inst[\"wb_sel\"]]\n",
    "    # return inst"
   ]
  },
  {
   "cell_type": "code",
   "execution_count": 6,
   "metadata": {},
   "outputs": [],
   "source": [
    "def process_branch_jump_cmp(inst):\n",
    "    inst[\"is_beq\"] = int(inst[\"name\"] == \"beq\")\n",
    "    inst[\"is_bne\"] = int(inst[\"name\"] == \"bne\")\n",
    "    inst[\"is_blt\"] = int(inst[\"name\"] == \"blt\" or inst[\"name\"] == \"bltu\")\n",
    "    inst[\"is_bge\"] = int(inst[\"name\"] == \"bge\" or inst[\"name\"] == \"bgeu\")\n",
    "    inst[\"cmp_U\"] = int(inst[\"name\"] in [\"bltu\", \"bgeu\", \"sltu\", \"sltiu\"])\n",
    "\n",
    "    inst[\"is_jump\"] = int((inst[\"name\"] == \"jal\") or (inst[\"name\"] == \"jalr\"))\n",
    "    # return inst"
   ]
  },
  {
   "cell_type": "code",
   "execution_count": 7,
   "metadata": {},
   "outputs": [],
   "source": [
    "def process_load_unsigned(inst):\n",
    "    load_unsigned = [\"lbu\", \"lhu\"]\n",
    "    inst[\"load_U\"] = int(inst[\"name\"] in load_unsigned)\n",
    "    # return inst"
   ]
  },
  {
   "cell_type": "code",
   "execution_count": 8,
   "metadata": {},
   "outputs": [],
   "source": [
    "def process_mem(inst):\n",
    "    load = [\"lb\", \"lbu\", \"lh\", \"lhu\", \"lw\"]\n",
    "    store = [\"sb\", \"sh\", \"sw\"]\n",
    "    len_dict = {\"1\": \"00\", \"2\": \"01\", \"4\": \"10\", \"\": \"??\"}\n",
    "    inst[\"mr\"] = int(inst[\"name\"] in load)\n",
    "    inst[\"mw\"] = int(inst[\"name\"] in store)\n",
    "    inst[\"len\"] = len_dict[inst[\"len\"]]\n",
    "    # return inst"
   ]
  },
  {
   "cell_type": "code",
   "execution_count": 9,
   "metadata": {},
   "outputs": [],
   "source": [
    "def process_inst_type(inst):\n",
    "    types_dict = {\n",
    "        \"I\": \"000\",\n",
    "        \"U\": \"001\",\n",
    "        \"S\": \"010\",\n",
    "        \"B\": \"011\",\n",
    "        \"J\": \"100\",\n",
    "        \"R\": \"???\",\n",
    "    }\n",
    "    inst[\"inst_type\"] = types_dict[inst[\"inst_type\"]]\n",
    "    # return inst"
   ]
  },
  {
   "cell_type": "code",
   "execution_count": 10,
   "metadata": {},
   "outputs": [],
   "source": [
    "def filter_branch(inst: dict):\n",
    "    return inst"
   ]
  },
  {
   "cell_type": "code",
   "execution_count": 11,
   "metadata": {},
   "outputs": [],
   "source": [
    "funcs = [\n",
    "    # reg_we op1_U op2_U invalid break\n",
    "    process_fill_zero,\n",
    "    # op1_sel op2_sel\n",
    "    process_op_sel,\n",
    "    # alu_sel\n",
    "    process_alu_sel,\n",
    "    # wb_sel\n",
    "    process_wb_sel,\n",
    "    # is_beq is_bne is_blt is_bge is_jump\n",
    "    process_branch_jump_cmp,\n",
    "    # load_U\n",
    "    process_load_unsigned,\n",
    "    # mr mw\n",
    "    process_mem,\n",
    "    # inst_type\n",
    "    process_inst_type,\n",
    "    #\n",
    "    # filter_branch,\n",
    "]\n",
    "for i in insts:\n",
    "    for f in funcs:\n",
    "        f(i)\n",
    "    for k, v in i.items():\n",
    "        i[k] = str(v)\n",
    "# insts = processed"
   ]
  },
  {
   "cell_type": "code",
   "execution_count": 12,
   "metadata": {},
   "outputs": [
    {
     "name": "stdout",
     "output_type": "stream",
     "text": [
      "{'pat': '??????? ????? ????? ??? ????? 01101 11', 'name': 'lui', 'reg_we': '1', 'op1_sel': '10', 'op2_sel': '1', 'op1_U': '0', 'op2_U': '0', 'alu_sel': '0000', 'wb_sel': '00', 'inst_type': '001', 'len': '??', 'invalid': '0', 'break': '0', 'is_beq': '0', 'is_bne': '0', 'is_blt': '0', 'is_bge': '0', 'cmp_U': '0', 'is_jump': '0', 'load_U': '0', 'mr': '0', 'mw': '0'}\n",
      "{'pat': '??????? ????? ????? ??? ????? 00101 11', 'name': 'auipc', 'reg_we': '1', 'op1_sel': '01', 'op2_sel': '1', 'op1_U': '0', 'op2_U': '0', 'alu_sel': '0000', 'wb_sel': '00', 'inst_type': '001', 'len': '??', 'invalid': '0', 'break': '0', 'is_beq': '0', 'is_bne': '0', 'is_blt': '0', 'is_bge': '0', 'cmp_U': '0', 'is_jump': '0', 'load_U': '0', 'mr': '0', 'mw': '0'}\n",
      "{'pat': '??????? ????? ????? ??? ????? 11011 11', 'name': 'jal', 'reg_we': '1', 'op1_sel': '01', 'op2_sel': '1', 'op1_U': '0', 'op2_U': '0', 'alu_sel': '0000', 'wb_sel': '10', 'inst_type': '100', 'len': '??', 'invalid': '0', 'break': '0', 'is_beq': '0', 'is_bne': '0', 'is_blt': '0', 'is_bge': '0', 'cmp_U': '0', 'is_jump': '1', 'load_U': '0', 'mr': '0', 'mw': '0'}\n",
      "{'pat': '??????? ????? ????? ??? ????? 11001 11', 'name': 'jalr', 'reg_we': '1', 'op1_sel': '00', 'op2_sel': '1', 'op1_U': '0', 'op2_U': '0', 'alu_sel': '0000', 'wb_sel': '10', 'inst_type': '000', 'len': '??', 'invalid': '0', 'break': '0', 'is_beq': '0', 'is_bne': '0', 'is_blt': '0', 'is_bge': '0', 'cmp_U': '0', 'is_jump': '1', 'load_U': '0', 'mr': '0', 'mw': '0'}\n",
      "{'pat': '??????? ????? ????? 000 ????? 11000 11', 'name': 'beq', 'reg_we': '0', 'op1_sel': '01', 'op2_sel': '1', 'op1_U': '0', 'op2_U': '0', 'alu_sel': '0000', 'wb_sel': '??', 'inst_type': '011', 'len': '??', 'invalid': '0', 'break': '0', 'is_beq': '1', 'is_bne': '0', 'is_blt': '0', 'is_bge': '0', 'cmp_U': '0', 'is_jump': '0', 'load_U': '0', 'mr': '0', 'mw': '0'}\n",
      "{'pat': '??????? ????? ????? 001 ????? 11000 11', 'name': 'bne', 'reg_we': '0', 'op1_sel': '01', 'op2_sel': '1', 'op1_U': '0', 'op2_U': '0', 'alu_sel': '0000', 'wb_sel': '??', 'inst_type': '011', 'len': '??', 'invalid': '0', 'break': '0', 'is_beq': '0', 'is_bne': '1', 'is_blt': '0', 'is_bge': '0', 'cmp_U': '0', 'is_jump': '0', 'load_U': '0', 'mr': '0', 'mw': '0'}\n",
      "{'pat': '??????? ????? ????? 100 ????? 11000 11', 'name': 'blt', 'reg_we': '0', 'op1_sel': '01', 'op2_sel': '1', 'op1_U': '0', 'op2_U': '0', 'alu_sel': '0000', 'wb_sel': '??', 'inst_type': '011', 'len': '??', 'invalid': '0', 'break': '0', 'is_beq': '0', 'is_bne': '0', 'is_blt': '1', 'is_bge': '0', 'cmp_U': '0', 'is_jump': '0', 'load_U': '0', 'mr': '0', 'mw': '0'}\n",
      "{'pat': '??????? ????? ????? 101 ????? 11000 11', 'name': 'bge', 'reg_we': '0', 'op1_sel': '01', 'op2_sel': '1', 'op1_U': '0', 'op2_U': '0', 'alu_sel': '0000', 'wb_sel': '??', 'inst_type': '011', 'len': '??', 'invalid': '0', 'break': '0', 'is_beq': '0', 'is_bne': '0', 'is_blt': '0', 'is_bge': '1', 'cmp_U': '0', 'is_jump': '0', 'load_U': '0', 'mr': '0', 'mw': '0'}\n",
      "{'pat': '??????? ????? ????? 110 ????? 11000 11', 'name': 'bltu', 'reg_we': '0', 'op1_sel': '01', 'op2_sel': '1', 'op1_U': '0', 'op2_U': '0', 'alu_sel': '0000', 'wb_sel': '??', 'inst_type': '011', 'len': '??', 'invalid': '0', 'break': '0', 'is_beq': '0', 'is_bne': '0', 'is_blt': '1', 'is_bge': '0', 'cmp_U': '1', 'is_jump': '0', 'load_U': '0', 'mr': '0', 'mw': '0'}\n",
      "{'pat': '??????? ????? ????? 111 ????? 11000 11', 'name': 'bgeu', 'reg_we': '0', 'op1_sel': '01', 'op2_sel': '1', 'op1_U': '0', 'op2_U': '0', 'alu_sel': '0000', 'wb_sel': '??', 'inst_type': '011', 'len': '??', 'invalid': '0', 'break': '0', 'is_beq': '0', 'is_bne': '0', 'is_blt': '0', 'is_bge': '1', 'cmp_U': '1', 'is_jump': '0', 'load_U': '0', 'mr': '0', 'mw': '0'}\n",
      "{'pat': '??????? ????? ????? 000 ????? 00000 11', 'name': 'lb', 'reg_we': '1', 'op1_sel': '00', 'op2_sel': '1', 'op1_U': '0', 'op2_U': '0', 'alu_sel': '0000', 'wb_sel': '01', 'inst_type': '000', 'len': '00', 'invalid': '0', 'break': '0', 'is_beq': '0', 'is_bne': '0', 'is_blt': '0', 'is_bge': '0', 'cmp_U': '0', 'is_jump': '0', 'load_U': '0', 'mr': '1', 'mw': '0'}\n",
      "{'pat': '??????? ????? ????? 001 ????? 00000 11', 'name': 'lh', 'reg_we': '1', 'op1_sel': '00', 'op2_sel': '1', 'op1_U': '0', 'op2_U': '0', 'alu_sel': '0000', 'wb_sel': '01', 'inst_type': '000', 'len': '01', 'invalid': '0', 'break': '0', 'is_beq': '0', 'is_bne': '0', 'is_blt': '0', 'is_bge': '0', 'cmp_U': '0', 'is_jump': '0', 'load_U': '0', 'mr': '1', 'mw': '0'}\n",
      "{'pat': '??????? ????? ????? 010 ????? 00000 11', 'name': 'lw', 'reg_we': '1', 'op1_sel': '00', 'op2_sel': '1', 'op1_U': '0', 'op2_U': '0', 'alu_sel': '0000', 'wb_sel': '01', 'inst_type': '000', 'len': '10', 'invalid': '0', 'break': '0', 'is_beq': '0', 'is_bne': '0', 'is_blt': '0', 'is_bge': '0', 'cmp_U': '0', 'is_jump': '0', 'load_U': '0', 'mr': '1', 'mw': '0'}\n",
      "{'pat': '??????? ????? ????? 100 ????? 00000 11', 'name': 'lbu', 'reg_we': '1', 'op1_sel': '00', 'op2_sel': '1', 'op1_U': '0', 'op2_U': '0', 'alu_sel': '0000', 'wb_sel': '01', 'inst_type': '000', 'len': '00', 'invalid': '0', 'break': '0', 'is_beq': '0', 'is_bne': '0', 'is_blt': '0', 'is_bge': '0', 'cmp_U': '0', 'is_jump': '0', 'load_U': '1', 'mr': '1', 'mw': '0'}\n",
      "{'pat': '??????? ????? ????? 101 ????? 00000 11', 'name': 'lhu', 'reg_we': '1', 'op1_sel': '00', 'op2_sel': '1', 'op1_U': '0', 'op2_U': '0', 'alu_sel': '0000', 'wb_sel': '01', 'inst_type': '000', 'len': '01', 'invalid': '0', 'break': '0', 'is_beq': '0', 'is_bne': '0', 'is_blt': '0', 'is_bge': '0', 'cmp_U': '0', 'is_jump': '0', 'load_U': '1', 'mr': '1', 'mw': '0'}\n",
      "{'pat': '??????? ????? ????? 000 ????? 01000 11', 'name': 'sb', 'reg_we': '0', 'op1_sel': '00', 'op2_sel': '1', 'op1_U': '0', 'op2_U': '0', 'alu_sel': '0000', 'wb_sel': '??', 'inst_type': '010', 'len': '??', 'invalid': '0', 'break': '0', 'is_beq': '0', 'is_bne': '0', 'is_blt': '0', 'is_bge': '0', 'cmp_U': '0', 'is_jump': '0', 'load_U': '0', 'mr': '0', 'mw': '1'}\n",
      "{'pat': '??????? ????? ????? 001 ????? 01000 11', 'name': 'sh', 'reg_we': '0', 'op1_sel': '00', 'op2_sel': '1', 'op1_U': '0', 'op2_U': '0', 'alu_sel': '0000', 'wb_sel': '??', 'inst_type': '010', 'len': '??', 'invalid': '0', 'break': '0', 'is_beq': '0', 'is_bne': '0', 'is_blt': '0', 'is_bge': '0', 'cmp_U': '0', 'is_jump': '0', 'load_U': '0', 'mr': '0', 'mw': '1'}\n",
      "{'pat': '??????? ????? ????? 010 ????? 01000 11', 'name': 'sw', 'reg_we': '0', 'op1_sel': '00', 'op2_sel': '1', 'op1_U': '0', 'op2_U': '0', 'alu_sel': '0000', 'wb_sel': '??', 'inst_type': '010', 'len': '??', 'invalid': '0', 'break': '0', 'is_beq': '0', 'is_bne': '0', 'is_blt': '0', 'is_bge': '0', 'cmp_U': '0', 'is_jump': '0', 'load_U': '0', 'mr': '0', 'mw': '1'}\n",
      "{'pat': '??????? ????? ????? 000 ????? 00100 11', 'name': 'addi', 'reg_we': '1', 'op1_sel': '00', 'op2_sel': '1', 'op1_U': '0', 'op2_U': '0', 'alu_sel': '0000', 'wb_sel': '00', 'inst_type': '000', 'len': '??', 'invalid': '0', 'break': '0', 'is_beq': '0', 'is_bne': '0', 'is_blt': '0', 'is_bge': '0', 'cmp_U': '0', 'is_jump': '0', 'load_U': '0', 'mr': '0', 'mw': '0'}\n",
      "{'pat': '??????? ????? ????? 010 ????? 00100 11', 'name': 'slti', 'reg_we': '1', 'op1_sel': '00', 'op2_sel': '1', 'op1_U': '0', 'op2_U': '0', 'alu_sel': '0101', 'wb_sel': '00', 'inst_type': '000', 'len': '??', 'invalid': '0', 'break': '0', 'is_beq': '0', 'is_bne': '0', 'is_blt': '0', 'is_bge': '0', 'cmp_U': '0', 'is_jump': '0', 'load_U': '0', 'mr': '0', 'mw': '0'}\n",
      "{'pat': '??????? ????? ????? 011 ????? 00100 11', 'name': 'sltiu', 'reg_we': '1', 'op1_sel': '00', 'op2_sel': '1', 'op1_U': '1', 'op2_U': '1', 'alu_sel': '0101', 'wb_sel': '00', 'inst_type': '000', 'len': '??', 'invalid': '0', 'break': '0', 'is_beq': '0', 'is_bne': '0', 'is_blt': '0', 'is_bge': '0', 'cmp_U': '1', 'is_jump': '0', 'load_U': '0', 'mr': '0', 'mw': '0'}\n",
      "{'pat': '??????? ????? ????? 100 ????? 00100 11', 'name': 'xori', 'reg_we': '1', 'op1_sel': '00', 'op2_sel': '1', 'op1_U': '0', 'op2_U': '0', 'alu_sel': '1000', 'wb_sel': '00', 'inst_type': '000', 'len': '??', 'invalid': '0', 'break': '0', 'is_beq': '0', 'is_bne': '0', 'is_blt': '0', 'is_bge': '0', 'cmp_U': '0', 'is_jump': '0', 'load_U': '0', 'mr': '0', 'mw': '0'}\n",
      "{'pat': '??????? ????? ????? 110 ????? 00100 11', 'name': 'ori', 'reg_we': '1', 'op1_sel': '00', 'op2_sel': '1', 'op1_U': '0', 'op2_U': '0', 'alu_sel': '0111', 'wb_sel': '00', 'inst_type': '000', 'len': '??', 'invalid': '0', 'break': '0', 'is_beq': '0', 'is_bne': '0', 'is_blt': '0', 'is_bge': '0', 'cmp_U': '0', 'is_jump': '0', 'load_U': '0', 'mr': '0', 'mw': '0'}\n",
      "{'pat': '??????? ????? ????? 111 ????? 00100 11', 'name': 'andi', 'reg_we': '1', 'op1_sel': '00', 'op2_sel': '1', 'op1_U': '0', 'op2_U': '0', 'alu_sel': '0110', 'wb_sel': '00', 'inst_type': '000', 'len': '??', 'invalid': '0', 'break': '0', 'is_beq': '0', 'is_bne': '0', 'is_blt': '0', 'is_bge': '0', 'cmp_U': '0', 'is_jump': '0', 'load_U': '0', 'mr': '0', 'mw': '0'}\n",
      "{'pat': '0000000 ????? ????? 001 ????? 00100 11', 'name': 'slli', 'reg_we': '1', 'op1_sel': '00', 'op2_sel': '1', 'op1_U': '0', 'op2_U': '0', 'alu_sel': '0010', 'wb_sel': '00', 'inst_type': '000', 'len': '??', 'invalid': '0', 'break': '0', 'is_beq': '0', 'is_bne': '0', 'is_blt': '0', 'is_bge': '0', 'cmp_U': '0', 'is_jump': '0', 'load_U': '0', 'mr': '0', 'mw': '0'}\n",
      "{'pat': '0000000 ????? ????? 101 ????? 00100 11', 'name': 'srli', 'reg_we': '1', 'op1_sel': '00', 'op2_sel': '1', 'op1_U': '0', 'op2_U': '0', 'alu_sel': '0011', 'wb_sel': '00', 'inst_type': '000', 'len': '??', 'invalid': '0', 'break': '0', 'is_beq': '0', 'is_bne': '0', 'is_blt': '0', 'is_bge': '0', 'cmp_U': '0', 'is_jump': '0', 'load_U': '0', 'mr': '0', 'mw': '0'}\n",
      "{'pat': '0100000 ????? ????? 101 ????? 00100 11', 'name': 'srai', 'reg_we': '1', 'op1_sel': '00', 'op2_sel': '1', 'op1_U': '0', 'op2_U': '0', 'alu_sel': '0100', 'wb_sel': '00', 'inst_type': '000', 'len': '??', 'invalid': '0', 'break': '0', 'is_beq': '0', 'is_bne': '0', 'is_blt': '0', 'is_bge': '0', 'cmp_U': '0', 'is_jump': '0', 'load_U': '0', 'mr': '0', 'mw': '0'}\n",
      "{'pat': '0000000 ????? ????? 000 ????? 01100 11', 'name': 'add', 'reg_we': '1', 'op1_sel': '00', 'op2_sel': '0', 'op1_U': '0', 'op2_U': '0', 'alu_sel': '0000', 'wb_sel': '00', 'inst_type': '???', 'len': '??', 'invalid': '0', 'break': '0', 'is_beq': '0', 'is_bne': '0', 'is_blt': '0', 'is_bge': '0', 'cmp_U': '0', 'is_jump': '0', 'load_U': '0', 'mr': '0', 'mw': '0'}\n",
      "{'pat': '0100000 ????? ????? 000 ????? 01100 11', 'name': 'sub', 'reg_we': '1', 'op1_sel': '00', 'op2_sel': '0', 'op1_U': '0', 'op2_U': '0', 'alu_sel': '0001', 'wb_sel': '00', 'inst_type': '???', 'len': '??', 'invalid': '0', 'break': '0', 'is_beq': '0', 'is_bne': '0', 'is_blt': '0', 'is_bge': '0', 'cmp_U': '0', 'is_jump': '0', 'load_U': '0', 'mr': '0', 'mw': '0'}\n",
      "{'pat': '0000000 ????? ????? 001 ????? 01100 11', 'name': 'sll', 'reg_we': '1', 'op1_sel': '00', 'op2_sel': '0', 'op1_U': '0', 'op2_U': '0', 'alu_sel': '0010', 'wb_sel': '00', 'inst_type': '???', 'len': '??', 'invalid': '0', 'break': '0', 'is_beq': '0', 'is_bne': '0', 'is_blt': '0', 'is_bge': '0', 'cmp_U': '0', 'is_jump': '0', 'load_U': '0', 'mr': '0', 'mw': '0'}\n",
      "{'pat': '0000000 ????? ????? 010 ????? 01100 11', 'name': 'slt', 'reg_we': '1', 'op1_sel': '00', 'op2_sel': '0', 'op1_U': '0', 'op2_U': '0', 'alu_sel': '0101', 'wb_sel': '00', 'inst_type': '???', 'len': '??', 'invalid': '0', 'break': '0', 'is_beq': '0', 'is_bne': '0', 'is_blt': '0', 'is_bge': '0', 'cmp_U': '0', 'is_jump': '0', 'load_U': '0', 'mr': '0', 'mw': '0'}\n",
      "{'pat': '0000000 ????? ????? 011 ????? 01100 11', 'name': 'sltu', 'reg_we': '1', 'op1_sel': '00', 'op2_sel': '0', 'op1_U': '1', 'op2_U': '1', 'alu_sel': '0101', 'wb_sel': '00', 'inst_type': '???', 'len': '??', 'invalid': '0', 'break': '0', 'is_beq': '0', 'is_bne': '0', 'is_blt': '0', 'is_bge': '0', 'cmp_U': '1', 'is_jump': '0', 'load_U': '0', 'mr': '0', 'mw': '0'}\n",
      "{'pat': '0000000 ????? ????? 100 ????? 01100 11', 'name': 'xor', 'reg_we': '1', 'op1_sel': '00', 'op2_sel': '0', 'op1_U': '0', 'op2_U': '0', 'alu_sel': '1000', 'wb_sel': '00', 'inst_type': '???', 'len': '??', 'invalid': '0', 'break': '0', 'is_beq': '0', 'is_bne': '0', 'is_blt': '0', 'is_bge': '0', 'cmp_U': '0', 'is_jump': '0', 'load_U': '0', 'mr': '0', 'mw': '0'}\n",
      "{'pat': '0000000 ????? ????? 101 ????? 01100 11', 'name': 'srl', 'reg_we': '1', 'op1_sel': '00', 'op2_sel': '0', 'op1_U': '0', 'op2_U': '0', 'alu_sel': '0011', 'wb_sel': '00', 'inst_type': '???', 'len': '??', 'invalid': '0', 'break': '0', 'is_beq': '0', 'is_bne': '0', 'is_blt': '0', 'is_bge': '0', 'cmp_U': '0', 'is_jump': '0', 'load_U': '0', 'mr': '0', 'mw': '0'}\n",
      "{'pat': '0100000 ????? ????? 101 ????? 01100 11', 'name': 'sra', 'reg_we': '1', 'op1_sel': '00', 'op2_sel': '0', 'op1_U': '0', 'op2_U': '0', 'alu_sel': '0100', 'wb_sel': '00', 'inst_type': '???', 'len': '??', 'invalid': '0', 'break': '0', 'is_beq': '0', 'is_bne': '0', 'is_blt': '0', 'is_bge': '0', 'cmp_U': '0', 'is_jump': '0', 'load_U': '0', 'mr': '0', 'mw': '0'}\n",
      "{'pat': '0000000 ????? ????? 110 ????? 01100 11', 'name': 'or', 'reg_we': '1', 'op1_sel': '00', 'op2_sel': '0', 'op1_U': '0', 'op2_U': '0', 'alu_sel': '0111', 'wb_sel': '00', 'inst_type': '???', 'len': '??', 'invalid': '0', 'break': '0', 'is_beq': '0', 'is_bne': '0', 'is_blt': '0', 'is_bge': '0', 'cmp_U': '0', 'is_jump': '0', 'load_U': '0', 'mr': '0', 'mw': '0'}\n",
      "{'pat': '0000000 ????? ????? 111 ????? 01100 11', 'name': 'and', 'reg_we': '1', 'op1_sel': '00', 'op2_sel': '0', 'op1_U': '0', 'op2_U': '0', 'alu_sel': '0110', 'wb_sel': '00', 'inst_type': '???', 'len': '??', 'invalid': '0', 'break': '0', 'is_beq': '0', 'is_bne': '0', 'is_blt': '0', 'is_bge': '0', 'cmp_U': '0', 'is_jump': '0', 'load_U': '0', 'mr': '0', 'mw': '0'}\n",
      "{'pat': '0000000 00001 00000 000 00000 11100 11', 'name': 'ebreak', 'reg_we': '0', 'op1_sel': '??', 'op2_sel': '?', 'op1_U': '0', 'op2_U': '0', 'alu_sel': '????', 'wb_sel': '??', 'inst_type': '000', 'len': '??', 'invalid': '0', 'break': '1', 'is_beq': '0', 'is_bne': '0', 'is_blt': '0', 'is_bge': '0', 'cmp_U': '0', 'is_jump': '0', 'load_U': '0', 'mr': '0', 'mw': '0'}\n",
      "{'pat': '0000001 ????? ????? 000 ????? 01100 11', 'name': 'mul', 'reg_we': '1', 'op1_sel': '00', 'op2_sel': '0', 'op1_U': '0', 'op2_U': '0', 'alu_sel': '1001', 'wb_sel': '00', 'inst_type': '???', 'len': '??', 'invalid': '0', 'break': '0', 'is_beq': '0', 'is_bne': '0', 'is_blt': '0', 'is_bge': '0', 'cmp_U': '0', 'is_jump': '0', 'load_U': '0', 'mr': '0', 'mw': '0'}\n",
      "{'pat': '0000001 ????? ????? 001 ????? 01100 11', 'name': 'mulh', 'reg_we': '1', 'op1_sel': '00', 'op2_sel': '0', 'op1_U': '0', 'op2_U': '0', 'alu_sel': '1010', 'wb_sel': '00', 'inst_type': '???', 'len': '??', 'invalid': '0', 'break': '0', 'is_beq': '0', 'is_bne': '0', 'is_blt': '0', 'is_bge': '0', 'cmp_U': '0', 'is_jump': '0', 'load_U': '0', 'mr': '0', 'mw': '0'}\n",
      "{'pat': '0000001 ????? ????? 010 ????? 01100 11', 'name': 'mulhsu', 'reg_we': '1', 'op1_sel': '00', 'op2_sel': '0', 'op1_U': '0', 'op2_U': '1', 'alu_sel': '1010', 'wb_sel': '00', 'inst_type': '???', 'len': '??', 'invalid': '0', 'break': '0', 'is_beq': '0', 'is_bne': '0', 'is_blt': '0', 'is_bge': '0', 'cmp_U': '0', 'is_jump': '0', 'load_U': '0', 'mr': '0', 'mw': '0'}\n",
      "{'pat': '0000001 ????? ????? 011 ????? 01100 11', 'name': 'mulhu', 'reg_we': '1', 'op1_sel': '00', 'op2_sel': '0', 'op1_U': '1', 'op2_U': '1', 'alu_sel': '1010', 'wb_sel': '00', 'inst_type': '???', 'len': '??', 'invalid': '0', 'break': '0', 'is_beq': '0', 'is_bne': '0', 'is_blt': '0', 'is_bge': '0', 'cmp_U': '0', 'is_jump': '0', 'load_U': '0', 'mr': '0', 'mw': '0'}\n",
      "{'pat': '0000001 ????? ????? 100 ????? 01100 11', 'name': 'div', 'reg_we': '1', 'op1_sel': '00', 'op2_sel': '0', 'op1_U': '0', 'op2_U': '0', 'alu_sel': '1011', 'wb_sel': '00', 'inst_type': '???', 'len': '??', 'invalid': '0', 'break': '0', 'is_beq': '0', 'is_bne': '0', 'is_blt': '0', 'is_bge': '0', 'cmp_U': '0', 'is_jump': '0', 'load_U': '0', 'mr': '0', 'mw': '0'}\n",
      "{'pat': '0000001 ????? ????? 101 ????? 01100 11', 'name': 'divu', 'reg_we': '1', 'op1_sel': '00', 'op2_sel': '0', 'op1_U': '1', 'op2_U': '1', 'alu_sel': '1011', 'wb_sel': '00', 'inst_type': '???', 'len': '??', 'invalid': '0', 'break': '0', 'is_beq': '0', 'is_bne': '0', 'is_blt': '0', 'is_bge': '0', 'cmp_U': '0', 'is_jump': '0', 'load_U': '0', 'mr': '0', 'mw': '0'}\n",
      "{'pat': '0000001 ????? ????? 110 ????? 01100 11', 'name': 'rem', 'reg_we': '1', 'op1_sel': '00', 'op2_sel': '0', 'op1_U': '0', 'op2_U': '0', 'alu_sel': '1100', 'wb_sel': '00', 'inst_type': '???', 'len': '??', 'invalid': '0', 'break': '0', 'is_beq': '0', 'is_bne': '0', 'is_blt': '0', 'is_bge': '0', 'cmp_U': '0', 'is_jump': '0', 'load_U': '0', 'mr': '0', 'mw': '0'}\n",
      "{'pat': '0000001 ????? ????? 111 ????? 01100 11', 'name': 'remu', 'reg_we': '1', 'op1_sel': '00', 'op2_sel': '0', 'op1_U': '1', 'op2_U': '1', 'alu_sel': '1100', 'wb_sel': '00', 'inst_type': '???', 'len': '??', 'invalid': '0', 'break': '0', 'is_beq': '0', 'is_bne': '0', 'is_blt': '0', 'is_bge': '0', 'cmp_U': '0', 'is_jump': '0', 'load_U': '0', 'mr': '0', 'mw': '0'}\n"
     ]
    }
   ],
   "source": [
    "for i in insts:\n",
    "    print(i)"
   ]
  },
  {
   "cell_type": "code",
   "execution_count": 13,
   "metadata": {},
   "outputs": [
    {
     "name": "stdout",
     "output_type": "stream",
     "text": [
      "reg_we    ( 0, 0)\n",
      "op1_sel   ( 1, 2)\n",
      "op2_sel   ( 3, 3)\n",
      "op1_U     ( 4, 4)\n",
      "op2_U     ( 5, 5)\n",
      "alu_sel   ( 6, 9)\n",
      "wb_sel    (10,11)\n",
      "inst_type (12,14)\n",
      "len       (15,16)\n",
      "invalid   (17,17)\n",
      "break     (18,18)\n",
      "is_beq    (19,19)\n",
      "is_bne    (20,20)\n",
      "is_blt    (21,21)\n",
      "is_bge    (22,22)\n",
      "cmp_U     (23,23)\n",
      "is_jump   (24,24)\n",
      "load_U    (25,25)\n",
      "mr        (26,26)\n",
      "mw        (27,27)\n"
     ]
    }
   ],
   "source": [
    "class Signal:\n",
    "    l: int = 0\n",
    "    r: int = 0\n",
    "    name: str = \"\"\n",
    "\n",
    "\n",
    "offset = 0\n",
    "for k, v in insts[0].items():\n",
    "    signal = Signal()\n",
    "    if k != \"pat\" and k != \"name\":\n",
    "        signal.name = k\n",
    "        signal.l = offset\n",
    "        signal.r = offset + len(v) - 1\n",
    "        offset += len(v)\n",
    "        print(f\"{signal.name:10}({signal.l:2},{signal.r:2})\")"
   ]
  },
  {
   "cell_type": "code",
   "execution_count": 14,
   "metadata": {},
   "outputs": [
    {
     "name": "stdout",
     "output_type": "stream",
     "text": [
      "val reg_we = UInt(1.W) // (0,0)\n",
      "val op1_sel = UInt(2.W) // (1,2)\n",
      "val op2_sel = UInt(1.W) // (3,3)\n",
      "val op1_U = UInt(1.W) // (4,4)\n",
      "val op2_U = UInt(1.W) // (5,5)\n",
      "val alu_sel = UInt(4.W) // (6,9)\n",
      "val wb_sel = UInt(2.W) // (10,11)\n",
      "val inst_type = UInt(3.W) // (12,14)\n",
      "val len = UInt(2.W) // (15,16)\n",
      "val invalid = UInt(1.W) // (17,17)\n",
      "val break = UInt(1.W) // (18,18)\n",
      "val is_beq = UInt(1.W) // (19,19)\n",
      "val is_bne = UInt(1.W) // (20,20)\n",
      "val is_blt = UInt(1.W) // (21,21)\n",
      "val is_bge = UInt(1.W) // (22,22)\n",
      "val cmp_U = UInt(1.W) // (23,23)\n",
      "val is_jump = UInt(1.W) // (24,24)\n",
      "val load_U = UInt(1.W) // (25,25)\n",
      "val mr = UInt(1.W) // (26,26)\n",
      "val mw = UInt(1.W) // (27,27)\n"
     ]
    }
   ],
   "source": [
    "offset = 0\n",
    "signals = {}\n",
    "for k, v in insts[0].items():\n",
    "    if k == \"pat\" or k == \"name\":\n",
    "        continue\n",
    "    signal = Signal()\n",
    "    signals[k] = signal\n",
    "    signal.name = k\n",
    "    signal.l = offset\n",
    "    signal.r = offset + len(v) - 1\n",
    "    offset += len(v)\n",
    "    print(f\"val {k} = UInt({len(v)}.W) // ({signal.l},{signal.r})\")\n",
    "control_len = offset"
   ]
  },
  {
   "cell_type": "code",
   "execution_count": 15,
   "metadata": {},
   "outputs": [
    {
     "name": "stdout",
     "output_type": "stream",
     "text": [
      "BitPat(\"b??????? ????? ????? ??? ????? 01101 11\") -> BitPat(\"b110100000000001??00000000000\"),\n",
      "BitPat(\"b??????? ????? ????? ??? ????? 00101 11\") -> BitPat(\"b101100000000001??00000000000\"),\n",
      "BitPat(\"b??????? ????? ????? ??? ????? 11011 11\") -> BitPat(\"b101100000010100??00000001000\"),\n",
      "BitPat(\"b??????? ????? ????? ??? ????? 11001 11\") -> BitPat(\"b100100000010000??00000001000\"),\n",
      "BitPat(\"b??????? ????? ????? 000 ????? 11000 11\") -> BitPat(\"b0011000000??011??00100000000\"),\n",
      "BitPat(\"b??????? ????? ????? 001 ????? 11000 11\") -> BitPat(\"b0011000000??011??00010000000\"),\n",
      "BitPat(\"b??????? ????? ????? 100 ????? 11000 11\") -> BitPat(\"b0011000000??011??00001000000\"),\n",
      "BitPat(\"b??????? ????? ????? 101 ????? 11000 11\") -> BitPat(\"b0011000000??011??00000100000\"),\n",
      "BitPat(\"b??????? ????? ????? 110 ????? 11000 11\") -> BitPat(\"b0011000000??011??00001010000\"),\n",
      "BitPat(\"b??????? ????? ????? 111 ????? 11000 11\") -> BitPat(\"b0011000000??011??00000110000\"),\n",
      "BitPat(\"b??????? ????? ????? 000 ????? 00000 11\") -> BitPat(\"b1001000000010000000000000010\"),\n",
      "BitPat(\"b??????? ????? ????? 001 ????? 00000 11\") -> BitPat(\"b1001000000010000100000000010\"),\n",
      "BitPat(\"b??????? ????? ????? 010 ????? 00000 11\") -> BitPat(\"b1001000000010001000000000010\"),\n",
      "BitPat(\"b??????? ????? ????? 100 ????? 00000 11\") -> BitPat(\"b1001000000010000000000000110\"),\n",
      "BitPat(\"b??????? ????? ????? 101 ????? 00000 11\") -> BitPat(\"b1001000000010000100000000110\"),\n",
      "BitPat(\"b??????? ????? ????? 000 ????? 01000 11\") -> BitPat(\"b0001000000??010??00000000001\"),\n",
      "BitPat(\"b??????? ????? ????? 001 ????? 01000 11\") -> BitPat(\"b0001000000??010??00000000001\"),\n",
      "BitPat(\"b??????? ????? ????? 010 ????? 01000 11\") -> BitPat(\"b0001000000??010??00000000001\"),\n",
      "BitPat(\"b??????? ????? ????? 000 ????? 00100 11\") -> BitPat(\"b100100000000000??00000000000\"),\n",
      "BitPat(\"b??????? ????? ????? 010 ????? 00100 11\") -> BitPat(\"b100100010100000??00000000000\"),\n",
      "BitPat(\"b??????? ????? ????? 011 ????? 00100 11\") -> BitPat(\"b100111010100000??00000010000\"),\n",
      "BitPat(\"b??????? ????? ????? 100 ????? 00100 11\") -> BitPat(\"b100100100000000??00000000000\"),\n",
      "BitPat(\"b??????? ????? ????? 110 ????? 00100 11\") -> BitPat(\"b100100011100000??00000000000\"),\n",
      "BitPat(\"b??????? ????? ????? 111 ????? 00100 11\") -> BitPat(\"b100100011000000??00000000000\"),\n",
      "BitPat(\"b0000000 ????? ????? 001 ????? 00100 11\") -> BitPat(\"b100100001000000??00000000000\"),\n",
      "BitPat(\"b0000000 ????? ????? 101 ????? 00100 11\") -> BitPat(\"b100100001100000??00000000000\"),\n",
      "BitPat(\"b0100000 ????? ????? 101 ????? 00100 11\") -> BitPat(\"b100100010000000??00000000000\"),\n",
      "BitPat(\"b0000000 ????? ????? 000 ????? 01100 11\") -> BitPat(\"b100000000000?????00000000000\"),\n",
      "BitPat(\"b0100000 ????? ????? 000 ????? 01100 11\") -> BitPat(\"b100000000100?????00000000000\"),\n",
      "BitPat(\"b0000000 ????? ????? 001 ????? 01100 11\") -> BitPat(\"b100000001000?????00000000000\"),\n",
      "BitPat(\"b0000000 ????? ????? 010 ????? 01100 11\") -> BitPat(\"b100000010100?????00000000000\"),\n",
      "BitPat(\"b0000000 ????? ????? 011 ????? 01100 11\") -> BitPat(\"b100011010100?????00000010000\"),\n",
      "BitPat(\"b0000000 ????? ????? 100 ????? 01100 11\") -> BitPat(\"b100000100000?????00000000000\"),\n",
      "BitPat(\"b0000000 ????? ????? 101 ????? 01100 11\") -> BitPat(\"b100000001100?????00000000000\"),\n",
      "BitPat(\"b0100000 ????? ????? 101 ????? 01100 11\") -> BitPat(\"b100000010000?????00000000000\"),\n",
      "BitPat(\"b0000000 ????? ????? 110 ????? 01100 11\") -> BitPat(\"b100000011100?????00000000000\"),\n",
      "BitPat(\"b0000000 ????? ????? 111 ????? 01100 11\") -> BitPat(\"b100000011000?????00000000000\"),\n",
      "BitPat(\"b0000000 00001 00000 000 00000 11100 11\") -> BitPat(\"b0???00??????000??01000000000\"),\n",
      "BitPat(\"b0000001 ????? ????? 000 ????? 01100 11\") -> BitPat(\"b100000100100?????00000000000\"),\n",
      "BitPat(\"b0000001 ????? ????? 001 ????? 01100 11\") -> BitPat(\"b100000101000?????00000000000\"),\n",
      "BitPat(\"b0000001 ????? ????? 010 ????? 01100 11\") -> BitPat(\"b100001101000?????00000000000\"),\n",
      "BitPat(\"b0000001 ????? ????? 011 ????? 01100 11\") -> BitPat(\"b100011101000?????00000000000\"),\n",
      "BitPat(\"b0000001 ????? ????? 100 ????? 01100 11\") -> BitPat(\"b100000101100?????00000000000\"),\n",
      "BitPat(\"b0000001 ????? ????? 101 ????? 01100 11\") -> BitPat(\"b100011101100?????00000000000\"),\n",
      "BitPat(\"b0000001 ????? ????? 110 ????? 01100 11\") -> BitPat(\"b100000110000?????00000000000\"),\n",
      "BitPat(\"b0000001 ????? ????? 111 ????? 01100 11\") -> BitPat(\"b100011110000?????00000000000\"),\n"
     ]
    }
   ],
   "source": [
    "isa = {}\n",
    "for i in insts:\n",
    "    Value = str()\n",
    "    for k, v in i.items():\n",
    "        if k == \"name\" or k == \"pat\":\n",
    "            continue\n",
    "        Value += v\n",
    "    print(f'BitPat(\"b{i[\"pat\"]}\") -> BitPat(\"b{Value}\"),')\n",
    "    i[\"control\"] = Value\n",
    "    isa[i[\"name\"]] = {\"pat\": i[\"pat\"], \"ctl\": Value}"
   ]
  },
  {
   "cell_type": "code",
   "execution_count": 16,
   "metadata": {},
   "outputs": [],
   "source": [
    "invalid = [\"?\" for i in range(control_len)]\n",
    "invalid[signals[\"invalid\"].l] = \"1\"\n",
    "invalid = \"\".join(invalid)\n",
    "isa[\"invalid\"] = {\"pat\": \"\", \"ctl\": invalid}"
   ]
  },
  {
   "cell_type": "code",
   "execution_count": 17,
   "metadata": {},
   "outputs": [
    {
     "name": "stdout",
     "output_type": "stream",
     "text": [
      "??????? ????? ????? 000 ????? 00100 11 100100000000000??00000000000\n",
      " ?????????????????1??????????\n"
     ]
    }
   ],
   "source": [
    "print(isa[\"addi\"][\"pat\"], isa[\"addi\"][\"ctl\"])\n",
    "print(isa[\"invalid\"][\"pat\"], isa[\"invalid\"][\"ctl\"])"
   ]
  }
 ],
 "metadata": {
  "kernelspec": {
   "display_name": "base",
   "language": "python",
   "name": "python3"
  },
  "language_info": {
   "codemirror_mode": {
    "name": "ipython",
    "version": 3
   },
   "file_extension": ".py",
   "mimetype": "text/x-python",
   "name": "python",
   "nbconvert_exporter": "python",
   "pygments_lexer": "ipython3",
   "version": "3.11.5"
  }
 },
 "nbformat": 4,
 "nbformat_minor": 2
}
