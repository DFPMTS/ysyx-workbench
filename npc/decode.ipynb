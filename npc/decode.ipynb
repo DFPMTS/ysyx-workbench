{
 "cells": [
  {
   "cell_type": "code",
   "execution_count": 56,
   "metadata": {},
   "outputs": [],
   "source": [
    "import csv\n",
    "\n",
    "csvfile = open(\"decode.csv\")\n",
    "insts = csv.DictReader(csvfile)\n",
    "insts = list(filter(lambda x: x[\"pat\"] != \"\", insts))\n",
    "for i in insts:\n",
    "    i[\"name\"] = i[\"name\"].strip()"
   ]
  },
  {
   "cell_type": "code",
   "execution_count": 57,
   "metadata": {},
   "outputs": [],
   "source": [
    "def fill_zero(inst):\n",
    "    fields = [\n",
    "        \"invalid\",\n",
    "        \"ecall\",\n",
    "        \"ebreak\",\n",
    "        \"mret\",\n",
    "        \"reg_we\",\n",
    "        \"branch\",\n",
    "        \"jal\",\n",
    "        \"jalr\",\n",
    "        \"mr\",\n",
    "        \"mw\",\n",
    "        \"csr\",\n",
    "    ]\n",
    "    for field in fields:\n",
    "        inst[field] = int(inst[field] == \"1\")"
   ]
  },
  {
   "cell_type": "code",
   "execution_count": 58,
   "metadata": {},
   "outputs": [],
   "source": [
    "def process_alu(inst):\n",
    "    # alu_sel1/alu_sel2\n",
    "    alu_sel1_dict = {\"rs1\": \"00\", \"pc\": \"01\", \"zero\": \"10\", \"\": \"??\"}\n",
    "    alu_sel2_dict = {\"rs2\": \"0\", \"imm\": \"1\", \"\": \"?\"}\n",
    "    inst[\"alu_sel1\"] = alu_sel1_dict[inst[\"alu_sel1\"]]\n",
    "    inst[\"alu_sel2\"] = alu_sel2_dict[inst[\"alu_sel2\"]]\n",
    "\n",
    "    # cmp_U\n",
    "    if inst[\"cmp_U\"] == \"\":\n",
    "        inst[\"cmp_U\"] = \"?\"\n",
    "\n",
    "    # alu_func\n",
    "    alu_func = [\n",
    "        \"add\",\n",
    "        \"sub\",\n",
    "        \"left\",\n",
    "        \"right\",\n",
    "        \"arith\",\n",
    "        \"eq\",\n",
    "        \"ne\",\n",
    "        \"lt\",\n",
    "        \"ge\",\n",
    "        \"and\",\n",
    "        \"or\",\n",
    "        \"xor\",\n",
    "    ]\n",
    "    alu_func_dict = {\"\": \"????\"}\n",
    "    for i in range(len(alu_func)):\n",
    "        alu_func_dict[alu_func[i]] = str(bin(i))[2:].zfill(4)\n",
    "    inst[\"alu_func\"] = alu_func_dict[inst[\"alu_func\"]]"
   ]
  },
  {
   "cell_type": "code",
   "execution_count": 59,
   "metadata": {},
   "outputs": [],
   "source": [
    "def process_mem(inst):\n",
    "    # do nothing here\n",
    "    # mem_len = inst(13,12)\n",
    "    # load_U  = inst(14)\n",
    "    pass"
   ]
  },
  {
   "cell_type": "code",
   "execution_count": 60,
   "metadata": {},
   "outputs": [],
   "source": [
    "def process_wb(inst):\n",
    "    wb_sel_dict = {\"alu\": \"00\", \"mem\": \"01\", \"snpc\": \"10\", \"csr\": \"11\", \"\": \"??\"}\n",
    "    inst[\"wb_sel\"] = wb_sel_dict[inst[\"wb_sel\"]]"
   ]
  },
  {
   "cell_type": "code",
   "execution_count": 61,
   "metadata": {},
   "outputs": [],
   "source": [
    "def process_inst_type(inst):\n",
    "    types_dict = {\n",
    "        \"I\": \"000\",\n",
    "        \"U\": \"001\",\n",
    "        \"S\": \"010\",\n",
    "        \"B\": \"011\",\n",
    "        \"J\": \"100\",\n",
    "        \"R\": \"???\",\n",
    "        \"\": \"???\",\n",
    "    }\n",
    "    inst[\"inst_type\"] = types_dict[inst[\"inst_type\"]]\n",
    "    # return inst"
   ]
  },
  {
   "cell_type": "code",
   "execution_count": 62,
   "metadata": {},
   "outputs": [],
   "source": [
    "funcs = [\n",
    "    # fill zeros\n",
    "    fill_zero,\n",
    "    # alu related signals: [alu_sel1, alu_sel2, alu_func, cmp_U]\n",
    "    process_alu,\n",
    "    # mem related signals: []\n",
    "    process_mem,\n",
    "    # write-back stage: [wb_sel]\n",
    "    process_wb,\n",
    "    # determine inst_type\n",
    "    process_inst_type,\n",
    "]\n",
    "for i in insts:\n",
    "    for f in funcs:\n",
    "        f(i)\n",
    "    for k, v in i.items():\n",
    "        i[k] = str(v)\n",
    "# insts = processed"
   ]
  },
  {
   "cell_type": "code",
   "execution_count": 63,
   "metadata": {},
   "outputs": [
    {
     "name": "stdout",
     "output_type": "stream",
     "text": [
      "{'pat': '??????? ????? ????? ??? ????? 01101 11', 'name': 'lui', 'invalid': '0', 'ecall': '0', 'ebreak': '0', 'mret': '0', 'reg_we': '1', 'alu_sel1': '10', 'alu_sel2': '1', 'cmp_U': '?', 'alu_func': '0000', 'branch': '0', 'jal': '0', 'jalr': '0', 'wb_sel': '00', 'inst_type': '001', 'mr': '0', 'mw': '0', 'csr': '0'}\n",
      "{'pat': '??????? ????? ????? ??? ????? 00101 11', 'name': 'auipc', 'invalid': '0', 'ecall': '0', 'ebreak': '0', 'mret': '0', 'reg_we': '1', 'alu_sel1': '01', 'alu_sel2': '1', 'cmp_U': '?', 'alu_func': '0000', 'branch': '0', 'jal': '0', 'jalr': '0', 'wb_sel': '00', 'inst_type': '001', 'mr': '0', 'mw': '0', 'csr': '0'}\n",
      "{'pat': '??????? ????? ????? ??? ????? 11011 11', 'name': 'jal', 'invalid': '0', 'ecall': '0', 'ebreak': '0', 'mret': '0', 'reg_we': '1', 'alu_sel1': '01', 'alu_sel2': '1', 'cmp_U': '?', 'alu_func': '0000', 'branch': '0', 'jal': '1', 'jalr': '0', 'wb_sel': '10', 'inst_type': '100', 'mr': '0', 'mw': '0', 'csr': '0'}\n",
      "{'pat': '??????? ????? ????? ??? ????? 11001 11', 'name': 'jalr', 'invalid': '0', 'ecall': '0', 'ebreak': '0', 'mret': '0', 'reg_we': '1', 'alu_sel1': '00', 'alu_sel2': '1', 'cmp_U': '?', 'alu_func': '0000', 'branch': '0', 'jal': '0', 'jalr': '1', 'wb_sel': '10', 'inst_type': '000', 'mr': '0', 'mw': '0', 'csr': '0'}\n",
      "{'pat': '??????? ????? ????? 000 ????? 11000 11', 'name': 'beq', 'invalid': '0', 'ecall': '0', 'ebreak': '0', 'mret': '0', 'reg_we': '0', 'alu_sel1': '00', 'alu_sel2': '0', 'cmp_U': '0', 'alu_func': '0101', 'branch': '1', 'jal': '0', 'jalr': '0', 'wb_sel': '??', 'inst_type': '011', 'mr': '0', 'mw': '0', 'csr': '0'}\n",
      "{'pat': '??????? ????? ????? 001 ????? 11000 11', 'name': 'bne', 'invalid': '0', 'ecall': '0', 'ebreak': '0', 'mret': '0', 'reg_we': '0', 'alu_sel1': '00', 'alu_sel2': '0', 'cmp_U': '0', 'alu_func': '0110', 'branch': '1', 'jal': '0', 'jalr': '0', 'wb_sel': '??', 'inst_type': '011', 'mr': '0', 'mw': '0', 'csr': '0'}\n",
      "{'pat': '??????? ????? ????? 100 ????? 11000 11', 'name': 'blt', 'invalid': '0', 'ecall': '0', 'ebreak': '0', 'mret': '0', 'reg_we': '0', 'alu_sel1': '00', 'alu_sel2': '0', 'cmp_U': '0', 'alu_func': '0111', 'branch': '1', 'jal': '0', 'jalr': '0', 'wb_sel': '??', 'inst_type': '011', 'mr': '0', 'mw': '0', 'csr': '0'}\n",
      "{'pat': '??????? ????? ????? 101 ????? 11000 11', 'name': 'bge', 'invalid': '0', 'ecall': '0', 'ebreak': '0', 'mret': '0', 'reg_we': '0', 'alu_sel1': '00', 'alu_sel2': '0', 'cmp_U': '0', 'alu_func': '1000', 'branch': '1', 'jal': '0', 'jalr': '0', 'wb_sel': '??', 'inst_type': '011', 'mr': '0', 'mw': '0', 'csr': '0'}\n",
      "{'pat': '??????? ????? ????? 110 ????? 11000 11', 'name': 'bltu', 'invalid': '0', 'ecall': '0', 'ebreak': '0', 'mret': '0', 'reg_we': '0', 'alu_sel1': '00', 'alu_sel2': '0', 'cmp_U': '1', 'alu_func': '0111', 'branch': '1', 'jal': '0', 'jalr': '0', 'wb_sel': '??', 'inst_type': '011', 'mr': '0', 'mw': '0', 'csr': '0'}\n",
      "{'pat': '??????? ????? ????? 111 ????? 11000 11', 'name': 'bgeu', 'invalid': '0', 'ecall': '0', 'ebreak': '0', 'mret': '0', 'reg_we': '0', 'alu_sel1': '00', 'alu_sel2': '0', 'cmp_U': '1', 'alu_func': '1000', 'branch': '1', 'jal': '0', 'jalr': '0', 'wb_sel': '??', 'inst_type': '011', 'mr': '0', 'mw': '0', 'csr': '0'}\n",
      "{'pat': '??????? ????? ????? 000 ????? 00000 11', 'name': 'lb', 'invalid': '0', 'ecall': '0', 'ebreak': '0', 'mret': '0', 'reg_we': '1', 'alu_sel1': '00', 'alu_sel2': '1', 'cmp_U': '?', 'alu_func': '0000', 'branch': '0', 'jal': '0', 'jalr': '0', 'wb_sel': '01', 'inst_type': '000', 'mr': '1', 'mw': '0', 'csr': '0'}\n",
      "{'pat': '??????? ????? ????? 001 ????? 00000 11', 'name': 'lh', 'invalid': '0', 'ecall': '0', 'ebreak': '0', 'mret': '0', 'reg_we': '1', 'alu_sel1': '00', 'alu_sel2': '1', 'cmp_U': '?', 'alu_func': '0000', 'branch': '0', 'jal': '0', 'jalr': '0', 'wb_sel': '01', 'inst_type': '000', 'mr': '1', 'mw': '0', 'csr': '0'}\n",
      "{'pat': '??????? ????? ????? 010 ????? 00000 11', 'name': 'lw', 'invalid': '0', 'ecall': '0', 'ebreak': '0', 'mret': '0', 'reg_we': '1', 'alu_sel1': '00', 'alu_sel2': '1', 'cmp_U': '?', 'alu_func': '0000', 'branch': '0', 'jal': '0', 'jalr': '0', 'wb_sel': '01', 'inst_type': '000', 'mr': '1', 'mw': '0', 'csr': '0'}\n",
      "{'pat': '??????? ????? ????? 100 ????? 00000 11', 'name': 'lbu', 'invalid': '0', 'ecall': '0', 'ebreak': '0', 'mret': '0', 'reg_we': '1', 'alu_sel1': '00', 'alu_sel2': '1', 'cmp_U': '?', 'alu_func': '0000', 'branch': '0', 'jal': '0', 'jalr': '0', 'wb_sel': '01', 'inst_type': '000', 'mr': '1', 'mw': '0', 'csr': '0'}\n",
      "{'pat': '??????? ????? ????? 101 ????? 00000 11', 'name': 'lhu', 'invalid': '0', 'ecall': '0', 'ebreak': '0', 'mret': '0', 'reg_we': '1', 'alu_sel1': '00', 'alu_sel2': '1', 'cmp_U': '?', 'alu_func': '0000', 'branch': '0', 'jal': '0', 'jalr': '0', 'wb_sel': '01', 'inst_type': '000', 'mr': '1', 'mw': '0', 'csr': '0'}\n",
      "{'pat': '??????? ????? ????? 000 ????? 01000 11', 'name': 'sb', 'invalid': '0', 'ecall': '0', 'ebreak': '0', 'mret': '0', 'reg_we': '0', 'alu_sel1': '00', 'alu_sel2': '1', 'cmp_U': '?', 'alu_func': '0000', 'branch': '0', 'jal': '0', 'jalr': '0', 'wb_sel': '??', 'inst_type': '010', 'mr': '0', 'mw': '1', 'csr': '0'}\n",
      "{'pat': '??????? ????? ????? 001 ????? 01000 11', 'name': 'sh', 'invalid': '0', 'ecall': '0', 'ebreak': '0', 'mret': '0', 'reg_we': '0', 'alu_sel1': '00', 'alu_sel2': '1', 'cmp_U': '?', 'alu_func': '0000', 'branch': '0', 'jal': '0', 'jalr': '0', 'wb_sel': '??', 'inst_type': '010', 'mr': '0', 'mw': '1', 'csr': '0'}\n",
      "{'pat': '??????? ????? ????? 010 ????? 01000 11', 'name': 'sw', 'invalid': '0', 'ecall': '0', 'ebreak': '0', 'mret': '0', 'reg_we': '0', 'alu_sel1': '00', 'alu_sel2': '1', 'cmp_U': '?', 'alu_func': '0000', 'branch': '0', 'jal': '0', 'jalr': '0', 'wb_sel': '??', 'inst_type': '010', 'mr': '0', 'mw': '1', 'csr': '0'}\n",
      "{'pat': '??????? ????? ????? 000 ????? 00100 11', 'name': 'addi', 'invalid': '0', 'ecall': '0', 'ebreak': '0', 'mret': '0', 'reg_we': '1', 'alu_sel1': '00', 'alu_sel2': '1', 'cmp_U': '?', 'alu_func': '0000', 'branch': '0', 'jal': '0', 'jalr': '0', 'wb_sel': '00', 'inst_type': '000', 'mr': '0', 'mw': '0', 'csr': '0'}\n",
      "{'pat': '??????? ????? ????? 010 ????? 00100 11', 'name': 'slti', 'invalid': '0', 'ecall': '0', 'ebreak': '0', 'mret': '0', 'reg_we': '1', 'alu_sel1': '00', 'alu_sel2': '1', 'cmp_U': '0', 'alu_func': '0111', 'branch': '0', 'jal': '0', 'jalr': '0', 'wb_sel': '00', 'inst_type': '000', 'mr': '0', 'mw': '0', 'csr': '0'}\n",
      "{'pat': '??????? ????? ????? 011 ????? 00100 11', 'name': 'sltiu', 'invalid': '0', 'ecall': '0', 'ebreak': '0', 'mret': '0', 'reg_we': '1', 'alu_sel1': '00', 'alu_sel2': '1', 'cmp_U': '1', 'alu_func': '0111', 'branch': '0', 'jal': '0', 'jalr': '0', 'wb_sel': '00', 'inst_type': '000', 'mr': '0', 'mw': '0', 'csr': '0'}\n",
      "{'pat': '??????? ????? ????? 100 ????? 00100 11', 'name': 'xori', 'invalid': '0', 'ecall': '0', 'ebreak': '0', 'mret': '0', 'reg_we': '1', 'alu_sel1': '00', 'alu_sel2': '1', 'cmp_U': '?', 'alu_func': '1011', 'branch': '0', 'jal': '0', 'jalr': '0', 'wb_sel': '00', 'inst_type': '000', 'mr': '0', 'mw': '0', 'csr': '0'}\n",
      "{'pat': '??????? ????? ????? 110 ????? 00100 11', 'name': 'ori', 'invalid': '0', 'ecall': '0', 'ebreak': '0', 'mret': '0', 'reg_we': '1', 'alu_sel1': '00', 'alu_sel2': '1', 'cmp_U': '?', 'alu_func': '1010', 'branch': '0', 'jal': '0', 'jalr': '0', 'wb_sel': '00', 'inst_type': '000', 'mr': '0', 'mw': '0', 'csr': '0'}\n",
      "{'pat': '??????? ????? ????? 111 ????? 00100 11', 'name': 'andi', 'invalid': '0', 'ecall': '0', 'ebreak': '0', 'mret': '0', 'reg_we': '1', 'alu_sel1': '00', 'alu_sel2': '1', 'cmp_U': '?', 'alu_func': '1001', 'branch': '0', 'jal': '0', 'jalr': '0', 'wb_sel': '00', 'inst_type': '000', 'mr': '0', 'mw': '0', 'csr': '0'}\n",
      "{'pat': '0000000 ????? ????? 001 ????? 00100 11', 'name': 'slli', 'invalid': '0', 'ecall': '0', 'ebreak': '0', 'mret': '0', 'reg_we': '1', 'alu_sel1': '00', 'alu_sel2': '1', 'cmp_U': '?', 'alu_func': '0010', 'branch': '0', 'jal': '0', 'jalr': '0', 'wb_sel': '00', 'inst_type': '000', 'mr': '0', 'mw': '0', 'csr': '0'}\n",
      "{'pat': '0000000 ????? ????? 101 ????? 00100 11', 'name': 'srli', 'invalid': '0', 'ecall': '0', 'ebreak': '0', 'mret': '0', 'reg_we': '1', 'alu_sel1': '00', 'alu_sel2': '1', 'cmp_U': '?', 'alu_func': '0011', 'branch': '0', 'jal': '0', 'jalr': '0', 'wb_sel': '00', 'inst_type': '000', 'mr': '0', 'mw': '0', 'csr': '0'}\n",
      "{'pat': '0100000 ????? ????? 101 ????? 00100 11', 'name': 'srai', 'invalid': '0', 'ecall': '0', 'ebreak': '0', 'mret': '0', 'reg_we': '1', 'alu_sel1': '00', 'alu_sel2': '1', 'cmp_U': '?', 'alu_func': '0100', 'branch': '0', 'jal': '0', 'jalr': '0', 'wb_sel': '00', 'inst_type': '000', 'mr': '0', 'mw': '0', 'csr': '0'}\n",
      "{'pat': '0000000 ????? ????? 000 ????? 01100 11', 'name': 'add', 'invalid': '0', 'ecall': '0', 'ebreak': '0', 'mret': '0', 'reg_we': '1', 'alu_sel1': '00', 'alu_sel2': '0', 'cmp_U': '?', 'alu_func': '0000', 'branch': '0', 'jal': '0', 'jalr': '0', 'wb_sel': '00', 'inst_type': '???', 'mr': '0', 'mw': '0', 'csr': '0'}\n",
      "{'pat': '0100000 ????? ????? 000 ????? 01100 11', 'name': 'sub', 'invalid': '0', 'ecall': '0', 'ebreak': '0', 'mret': '0', 'reg_we': '1', 'alu_sel1': '00', 'alu_sel2': '0', 'cmp_U': '?', 'alu_func': '0001', 'branch': '0', 'jal': '0', 'jalr': '0', 'wb_sel': '00', 'inst_type': '???', 'mr': '0', 'mw': '0', 'csr': '0'}\n",
      "{'pat': '0000000 ????? ????? 001 ????? 01100 11', 'name': 'sll', 'invalid': '0', 'ecall': '0', 'ebreak': '0', 'mret': '0', 'reg_we': '1', 'alu_sel1': '00', 'alu_sel2': '0', 'cmp_U': '?', 'alu_func': '0010', 'branch': '0', 'jal': '0', 'jalr': '0', 'wb_sel': '00', 'inst_type': '???', 'mr': '0', 'mw': '0', 'csr': '0'}\n",
      "{'pat': '0000000 ????? ????? 010 ????? 01100 11', 'name': 'slt', 'invalid': '0', 'ecall': '0', 'ebreak': '0', 'mret': '0', 'reg_we': '1', 'alu_sel1': '00', 'alu_sel2': '0', 'cmp_U': '0', 'alu_func': '0111', 'branch': '0', 'jal': '0', 'jalr': '0', 'wb_sel': '00', 'inst_type': '???', 'mr': '0', 'mw': '0', 'csr': '0'}\n",
      "{'pat': '0000000 ????? ????? 011 ????? 01100 11', 'name': 'sltu', 'invalid': '0', 'ecall': '0', 'ebreak': '0', 'mret': '0', 'reg_we': '1', 'alu_sel1': '00', 'alu_sel2': '0', 'cmp_U': '1', 'alu_func': '0111', 'branch': '0', 'jal': '0', 'jalr': '0', 'wb_sel': '00', 'inst_type': '???', 'mr': '0', 'mw': '0', 'csr': '0'}\n",
      "{'pat': '0000000 ????? ????? 100 ????? 01100 11', 'name': 'xor', 'invalid': '0', 'ecall': '0', 'ebreak': '0', 'mret': '0', 'reg_we': '1', 'alu_sel1': '00', 'alu_sel2': '0', 'cmp_U': '?', 'alu_func': '1011', 'branch': '0', 'jal': '0', 'jalr': '0', 'wb_sel': '00', 'inst_type': '???', 'mr': '0', 'mw': '0', 'csr': '0'}\n",
      "{'pat': '0000000 ????? ????? 101 ????? 01100 11', 'name': 'srl', 'invalid': '0', 'ecall': '0', 'ebreak': '0', 'mret': '0', 'reg_we': '1', 'alu_sel1': '00', 'alu_sel2': '0', 'cmp_U': '?', 'alu_func': '0011', 'branch': '0', 'jal': '0', 'jalr': '0', 'wb_sel': '00', 'inst_type': '???', 'mr': '0', 'mw': '0', 'csr': '0'}\n",
      "{'pat': '0100000 ????? ????? 101 ????? 01100 11', 'name': 'sra', 'invalid': '0', 'ecall': '0', 'ebreak': '0', 'mret': '0', 'reg_we': '1', 'alu_sel1': '00', 'alu_sel2': '0', 'cmp_U': '?', 'alu_func': '0100', 'branch': '0', 'jal': '0', 'jalr': '0', 'wb_sel': '00', 'inst_type': '???', 'mr': '0', 'mw': '0', 'csr': '0'}\n",
      "{'pat': '0000000 ????? ????? 110 ????? 01100 11', 'name': 'or', 'invalid': '0', 'ecall': '0', 'ebreak': '0', 'mret': '0', 'reg_we': '1', 'alu_sel1': '00', 'alu_sel2': '0', 'cmp_U': '?', 'alu_func': '1010', 'branch': '0', 'jal': '0', 'jalr': '0', 'wb_sel': '00', 'inst_type': '???', 'mr': '0', 'mw': '0', 'csr': '0'}\n",
      "{'pat': '0000000 ????? ????? 111 ????? 01100 11', 'name': 'and', 'invalid': '0', 'ecall': '0', 'ebreak': '0', 'mret': '0', 'reg_we': '1', 'alu_sel1': '00', 'alu_sel2': '0', 'cmp_U': '?', 'alu_func': '1001', 'branch': '0', 'jal': '0', 'jalr': '0', 'wb_sel': '00', 'inst_type': '???', 'mr': '0', 'mw': '0', 'csr': '0'}\n",
      "{'pat': '0000000 00000 00000 000 00000 11100 11', 'name': 'ecall', 'invalid': '0', 'ecall': '1', 'ebreak': '0', 'mret': '0', 'reg_we': '0', 'alu_sel1': '??', 'alu_sel2': '?', 'cmp_U': '?', 'alu_func': '????', 'branch': '0', 'jal': '0', 'jalr': '0', 'wb_sel': '??', 'inst_type': '???', 'mr': '0', 'mw': '0', 'csr': '0'}\n",
      "{'pat': '0000000 00001 00000 000 00000 11100 11', 'name': 'ebreak', 'invalid': '0', 'ecall': '0', 'ebreak': '1', 'mret': '0', 'reg_we': '0', 'alu_sel1': '??', 'alu_sel2': '?', 'cmp_U': '?', 'alu_func': '????', 'branch': '0', 'jal': '0', 'jalr': '0', 'wb_sel': '??', 'inst_type': '???', 'mr': '0', 'mw': '0', 'csr': '0'}\n",
      "{'pat': '??????? ????? ????? 001 ????? 11100 11', 'name': 'csrrw', 'invalid': '0', 'ecall': '0', 'ebreak': '0', 'mret': '0', 'reg_we': '1', 'alu_sel1': '??', 'alu_sel2': '?', 'cmp_U': '?', 'alu_func': '????', 'branch': '0', 'jal': '0', 'jalr': '0', 'wb_sel': '11', 'inst_type': '000', 'mr': '0', 'mw': '0', 'csr': '1'}\n",
      "{'pat': '??????? ????? ????? 010 ????? 11100 11', 'name': 'csrrs', 'invalid': '0', 'ecall': '0', 'ebreak': '0', 'mret': '0', 'reg_we': '1', 'alu_sel1': '??', 'alu_sel2': '?', 'cmp_U': '?', 'alu_func': '????', 'branch': '0', 'jal': '0', 'jalr': '0', 'wb_sel': '11', 'inst_type': '000', 'mr': '0', 'mw': '0', 'csr': '1'}\n",
      "{'pat': '0011000 00010 00000 000 00000 11100 11', 'name': 'mret', 'invalid': '0', 'ecall': '0', 'ebreak': '0', 'mret': '1', 'reg_we': '0', 'alu_sel1': '??', 'alu_sel2': '?', 'cmp_U': '?', 'alu_func': '????', 'branch': '0', 'jal': '0', 'jalr': '0', 'wb_sel': '??', 'inst_type': '???', 'mr': '0', 'mw': '0', 'csr': '0'}\n"
     ]
    }
   ],
   "source": [
    "for i in insts:\n",
    "    print(i)"
   ]
  },
  {
   "cell_type": "code",
   "execution_count": 64,
   "metadata": {},
   "outputs": [
    {
     "name": "stdout",
     "output_type": "stream",
     "text": [
      "val invalid = UInt(1.W)\n",
      "val ecall = UInt(1.W)\n",
      "val ebreak = UInt(1.W)\n",
      "val mret = UInt(1.W)\n",
      "val reg_we = UInt(1.W)\n",
      "val alu_sel1 = UInt(2.W)\n",
      "val alu_sel2 = UInt(1.W)\n",
      "val cmp_U = UInt(1.W)\n",
      "val alu_func = UInt(4.W)\n",
      "val branch = UInt(1.W)\n",
      "val jal = UInt(1.W)\n",
      "val jalr = UInt(1.W)\n",
      "val wb_sel = UInt(2.W)\n",
      "val inst_type = UInt(3.W)\n",
      "val mr = UInt(1.W)\n",
      "val mw = UInt(1.W)\n",
      "val csr = UInt(1.W)\n"
     ]
    }
   ],
   "source": [
    "class Signal:\n",
    "    l: int = 0\n",
    "    r: int = 0\n",
    "    name: str = \"\"\n",
    "\n",
    "\n",
    "offset = 0\n",
    "signals = {}\n",
    "for k, v in insts[0].items():\n",
    "    if k == \"pat\" or k == \"name\":\n",
    "        continue\n",
    "    signal = Signal()\n",
    "    signals[k] = signal\n",
    "    signal.name = k\n",
    "    signal.l = offset\n",
    "    signal.r = offset + len(v) - 1\n",
    "    offset += len(v)\n",
    "    print(f\"val {k} = UInt({len(v)}.W)\")\n",
    "control_len = offset"
   ]
  },
  {
   "cell_type": "code",
   "execution_count": 65,
   "metadata": {},
   "outputs": [
    {
     "name": "stdout",
     "output_type": "stream",
     "text": [
      "BitPat(\"b??????? ????? ????? ??? ????? 01101 11\") -> BitPat(\"b00001101?000000000001000\"),\n",
      "BitPat(\"b??????? ????? ????? ??? ????? 00101 11\") -> BitPat(\"b00001011?000000000001000\"),\n",
      "BitPat(\"b??????? ????? ????? ??? ????? 11011 11\") -> BitPat(\"b00001011?000001010100000\"),\n",
      "BitPat(\"b??????? ????? ????? ??? ????? 11001 11\") -> BitPat(\"b00001001?000000110000000\"),\n",
      "BitPat(\"b??????? ????? ????? 000 ????? 11000 11\") -> BitPat(\"b0000000000101100??011000\"),\n",
      "BitPat(\"b??????? ????? ????? 001 ????? 11000 11\") -> BitPat(\"b0000000000110100??011000\"),\n",
      "BitPat(\"b??????? ????? ????? 100 ????? 11000 11\") -> BitPat(\"b0000000000111100??011000\"),\n",
      "BitPat(\"b??????? ????? ????? 101 ????? 11000 11\") -> BitPat(\"b0000000001000100??011000\"),\n",
      "BitPat(\"b??????? ????? ????? 110 ????? 11000 11\") -> BitPat(\"b0000000010111100??011000\"),\n",
      "BitPat(\"b??????? ????? ????? 111 ????? 11000 11\") -> BitPat(\"b0000000011000100??011000\"),\n",
      "BitPat(\"b??????? ????? ????? 000 ????? 00000 11\") -> BitPat(\"b00001001?000000001000100\"),\n",
      "BitPat(\"b??????? ????? ????? 001 ????? 00000 11\") -> BitPat(\"b00001001?000000001000100\"),\n",
      "BitPat(\"b??????? ????? ????? 010 ????? 00000 11\") -> BitPat(\"b00001001?000000001000100\"),\n",
      "BitPat(\"b??????? ????? ????? 100 ????? 00000 11\") -> BitPat(\"b00001001?000000001000100\"),\n",
      "BitPat(\"b??????? ????? ????? 101 ????? 00000 11\") -> BitPat(\"b00001001?000000001000100\"),\n",
      "BitPat(\"b??????? ????? ????? 000 ????? 01000 11\") -> BitPat(\"b00000001?0000000??010010\"),\n",
      "BitPat(\"b??????? ????? ????? 001 ????? 01000 11\") -> BitPat(\"b00000001?0000000??010010\"),\n",
      "BitPat(\"b??????? ????? ????? 010 ????? 01000 11\") -> BitPat(\"b00000001?0000000??010010\"),\n",
      "BitPat(\"b??????? ????? ????? 000 ????? 00100 11\") -> BitPat(\"b00001001?000000000000000\"),\n",
      "BitPat(\"b??????? ????? ????? 010 ????? 00100 11\") -> BitPat(\"b000010010011100000000000\"),\n",
      "BitPat(\"b??????? ????? ????? 011 ????? 00100 11\") -> BitPat(\"b000010011011100000000000\"),\n",
      "BitPat(\"b??????? ????? ????? 100 ????? 00100 11\") -> BitPat(\"b00001001?101100000000000\"),\n",
      "BitPat(\"b??????? ????? ????? 110 ????? 00100 11\") -> BitPat(\"b00001001?101000000000000\"),\n",
      "BitPat(\"b??????? ????? ????? 111 ????? 00100 11\") -> BitPat(\"b00001001?100100000000000\"),\n",
      "BitPat(\"b0000000 ????? ????? 001 ????? 00100 11\") -> BitPat(\"b00001001?001000000000000\"),\n",
      "BitPat(\"b0000000 ????? ????? 101 ????? 00100 11\") -> BitPat(\"b00001001?001100000000000\"),\n",
      "BitPat(\"b0100000 ????? ????? 101 ????? 00100 11\") -> BitPat(\"b00001001?010000000000000\"),\n",
      "BitPat(\"b0000000 ????? ????? 000 ????? 01100 11\") -> BitPat(\"b00001000?000000000???000\"),\n",
      "BitPat(\"b0100000 ????? ????? 000 ????? 01100 11\") -> BitPat(\"b00001000?000100000???000\"),\n",
      "BitPat(\"b0000000 ????? ????? 001 ????? 01100 11\") -> BitPat(\"b00001000?001000000???000\"),\n",
      "BitPat(\"b0000000 ????? ????? 010 ????? 01100 11\") -> BitPat(\"b000010000011100000???000\"),\n",
      "BitPat(\"b0000000 ????? ????? 011 ????? 01100 11\") -> BitPat(\"b000010001011100000???000\"),\n",
      "BitPat(\"b0000000 ????? ????? 100 ????? 01100 11\") -> BitPat(\"b00001000?101100000???000\"),\n",
      "BitPat(\"b0000000 ????? ????? 101 ????? 01100 11\") -> BitPat(\"b00001000?001100000???000\"),\n",
      "BitPat(\"b0100000 ????? ????? 101 ????? 01100 11\") -> BitPat(\"b00001000?010000000???000\"),\n",
      "BitPat(\"b0000000 ????? ????? 110 ????? 01100 11\") -> BitPat(\"b00001000?101000000???000\"),\n",
      "BitPat(\"b0000000 ????? ????? 111 ????? 01100 11\") -> BitPat(\"b00001000?100100000???000\"),\n",
      "BitPat(\"b0000000 00000 00000 000 00000 11100 11\") -> BitPat(\"b01000????????000?????000\"),\n",
      "BitPat(\"b0000000 00001 00000 000 00000 11100 11\") -> BitPat(\"b00100????????000?????000\"),\n",
      "BitPat(\"b??????? ????? ????? 001 ????? 11100 11\") -> BitPat(\"b00001????????00011000001\"),\n",
      "BitPat(\"b??????? ????? ????? 010 ????? 11100 11\") -> BitPat(\"b00001????????00011000001\"),\n",
      "BitPat(\"b0011000 00010 00000 000 00000 11100 11\") -> BitPat(\"b00010????????000?????000\"),\n"
     ]
    }
   ],
   "source": [
    "isa = {}\n",
    "for i in insts:\n",
    "    Value = str()\n",
    "    for k, v in i.items():\n",
    "        if k == \"name\" or k == \"pat\":\n",
    "            continue\n",
    "        Value += v\n",
    "    print(f'BitPat(\"b{i[\"pat\"]}\") -> BitPat(\"b{Value}\"),')\n",
    "    i[\"control\"] = Value\n",
    "    isa[i[\"name\"]] = {\"pat\": i[\"pat\"], \"ctl\": Value}"
   ]
  },
  {
   "cell_type": "code",
   "execution_count": 66,
   "metadata": {},
   "outputs": [
    {
     "name": "stdout",
     "output_type": "stream",
     "text": [
      "b1???????????????????????\n"
     ]
    }
   ],
   "source": [
    "invalid = [\"?\" for i in range(control_len)]\n",
    "invalid[signals[\"invalid\"].l] = \"1\"\n",
    "invalid = \"\".join(invalid)\n",
    "isa[\"invalid\"] = {\"pat\": \"\", \"ctl\": invalid}\n",
    "print(\"b\" + isa[\"invalid\"][\"ctl\"])"
   ]
  }
 ],
 "metadata": {
  "kernelspec": {
   "display_name": "base",
   "language": "python",
   "name": "python3"
  },
  "language_info": {
   "codemirror_mode": {
    "name": "ipython",
    "version": 3
   },
   "file_extension": ".py",
   "mimetype": "text/x-python",
   "name": "python",
   "nbconvert_exporter": "python",
   "pygments_lexer": "ipython3",
   "version": "3.11.5"
  }
 },
 "nbformat": 4,
 "nbformat_minor": 2
}
