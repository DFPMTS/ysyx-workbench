{
 "cells": [
  {
   "cell_type": "code",
   "execution_count": 136,
   "metadata": {},
   "outputs": [],
   "source": [
    "import csv\n",
    "\n",
    "csvfile = open(\"decode.csv\")\n",
    "insts = csv.DictReader(csvfile)\n",
    "insts = list(filter(lambda x: x[\"pat\"] != \"\", insts))\n",
    "for i in insts:\n",
    "    i[\"name\"] = i[\"name\"].strip()"
   ]
  },
  {
   "cell_type": "code",
   "execution_count": 137,
   "metadata": {},
   "outputs": [],
   "source": [
    "def fill_zero(inst):\n",
    "    fields = [\"invalid\", \"regWe\"]\n",
    "    for field in fields:\n",
    "        inst[field] = \"Y\" if int(inst[field] == \"1\") else \"N\""
   ]
  },
  {
   "cell_type": "code",
   "execution_count": 138,
   "metadata": {},
   "outputs": [],
   "source": [
    "def process_alu(inst):\n",
    "    # alu_sel1/alu_sel2\n",
    "    alu_sel1_dict = {\"rs1\": \"REG\", \"pc\": \"PC\", \"zero\": \"ZERO\"}\n",
    "    alu_sel2_dict = {\"rs2\": \"REG\", \"imm\": \"IMM\", \"zero\": \"ZERO\"}\n",
    "    inst[\"src1Type\"] = alu_sel1_dict[inst[\"src1Type\"]]\n",
    "    inst[\"src2Type\"] = alu_sel2_dict[inst[\"src2Type\"]]\n",
    "\n",
    "    # alu_func\n",
    "    inst[\"aluFunc\"] = \"ALU_\" + inst[\"aluFunc\"].upper()"
   ]
  },
  {
   "cell_type": "code",
   "execution_count": 139,
   "metadata": {},
   "outputs": [],
   "source": [
    "def process_mem(inst):\n",
    "    # do nothing here\n",
    "    # mem_len = inst(13,12)\n",
    "    # load_U  = inst(14)\n",
    "    pass"
   ]
  },
  {
   "cell_type": "code",
   "execution_count": 140,
   "metadata": {},
   "outputs": [],
   "source": [
    "def process_fu(inst):\n",
    "    inst[\"fuType\"] = inst[\"fuType\"].upper()"
   ]
  },
  {
   "cell_type": "code",
   "execution_count": 141,
   "metadata": {},
   "outputs": [],
   "source": [
    "def process_inst_type(inst):\n",
    "    inst[\"instType\"] = \"IMM_\" + inst[\"instType\"].upper()\n",
    "    # return inst"
   ]
  },
  {
   "cell_type": "code",
   "execution_count": 142,
   "metadata": {},
   "outputs": [],
   "source": [
    "def process_fu_ops(inst):\n",
    "    inst[\"fuOp\"] = inst[\"fuOp\"].upper() if inst[\"fuOp\"] != \"\" else \"OP_X\""
   ]
  },
  {
   "cell_type": "code",
   "execution_count": 143,
   "metadata": {},
   "outputs": [],
   "source": [
    "funcs = [\n",
    "    # fill zeros\n",
    "    fill_zero,\n",
    "    # alu related signals: [alu_sel1, alu_sel2, alu_func, cmp_U]\n",
    "    process_alu,\n",
    "    # mem related signals: []\n",
    "    process_mem,\n",
    "    # write-back stage: [wb_sel]\n",
    "    process_fu,\n",
    "    # fu ops\n",
    "    process_fu_ops,\n",
    "    # determine inst_type\n",
    "    process_inst_type,\n",
    "]\n",
    "for i in insts:\n",
    "    for f in funcs:\n",
    "        f(i)\n",
    "    for k, v in i.items():\n",
    "        i[k] = str(v)\n",
    "# insts = processed"
   ]
  },
  {
   "cell_type": "code",
   "execution_count": 144,
   "metadata": {},
   "outputs": [
    {
     "name": "stdout",
     "output_type": "stream",
     "text": [
      "{'pat': '??????? ????? ????? ??? ????? 01101 11', 'name': 'lui', 'invalid': 'N', 'regWe': 'Y', 'src1Type': 'ZERO', 'src2Type': 'IMM', 'aluFunc': 'ALU_ADD', 'fuType': 'ALU', 'instType': 'IMM_U', 'fuOp': 'OP_X'}\n",
      "{'pat': '??????? ????? ????? ??? ????? 00101 11', 'name': 'auipc', 'invalid': 'N', 'regWe': 'Y', 'src1Type': 'PC', 'src2Type': 'IMM', 'aluFunc': 'ALU_ADD', 'fuType': 'ALU', 'instType': 'IMM_U', 'fuOp': 'OP_X'}\n",
      "{'pat': '??????? ????? ????? ??? ????? 11011 11', 'name': 'jal', 'invalid': 'N', 'regWe': 'Y', 'src1Type': 'PC', 'src2Type': 'IMM', 'aluFunc': 'ALU_ADD', 'fuType': 'BRU', 'instType': 'IMM_J', 'fuOp': 'JUMP'}\n",
      "{'pat': '??????? ????? ????? ??? ????? 11001 11', 'name': 'jalr', 'invalid': 'N', 'regWe': 'Y', 'src1Type': 'REG', 'src2Type': 'IMM', 'aluFunc': 'ALU_ADD', 'fuType': 'BRU', 'instType': 'IMM_I', 'fuOp': 'JUMP'}\n",
      "{'pat': '??????? ????? ????? 000 ????? 11000 11', 'name': 'beq', 'invalid': 'N', 'regWe': 'N', 'src1Type': 'REG', 'src2Type': 'REG', 'aluFunc': 'ALU_EQ', 'fuType': 'BRU', 'instType': 'IMM_B', 'fuOp': 'BRANCH'}\n",
      "{'pat': '??????? ????? ????? 001 ????? 11000 11', 'name': 'bne', 'invalid': 'N', 'regWe': 'N', 'src1Type': 'REG', 'src2Type': 'REG', 'aluFunc': 'ALU_NE', 'fuType': 'BRU', 'instType': 'IMM_B', 'fuOp': 'BRANCH'}\n",
      "{'pat': '??????? ????? ????? 100 ????? 11000 11', 'name': 'blt', 'invalid': 'N', 'regWe': 'N', 'src1Type': 'REG', 'src2Type': 'REG', 'aluFunc': 'ALU_LT', 'fuType': 'BRU', 'instType': 'IMM_B', 'fuOp': 'BRANCH'}\n",
      "{'pat': '??????? ????? ????? 101 ????? 11000 11', 'name': 'bge', 'invalid': 'N', 'regWe': 'N', 'src1Type': 'REG', 'src2Type': 'REG', 'aluFunc': 'ALU_GE', 'fuType': 'BRU', 'instType': 'IMM_B', 'fuOp': 'BRANCH'}\n",
      "{'pat': '??????? ????? ????? 110 ????? 11000 11', 'name': 'bltu', 'invalid': 'N', 'regWe': 'N', 'src1Type': 'REG', 'src2Type': 'REG', 'aluFunc': 'ALU_LTU', 'fuType': 'BRU', 'instType': 'IMM_B', 'fuOp': 'BRANCH'}\n",
      "{'pat': '??????? ????? ????? 111 ????? 11000 11', 'name': 'bgeu', 'invalid': 'N', 'regWe': 'N', 'src1Type': 'REG', 'src2Type': 'REG', 'aluFunc': 'ALU_GEU', 'fuType': 'BRU', 'instType': 'IMM_B', 'fuOp': 'BRANCH'}\n",
      "{'pat': '??????? ????? ????? 000 ????? 00000 11', 'name': 'lb', 'invalid': 'N', 'regWe': 'Y', 'src1Type': 'REG', 'src2Type': 'IMM', 'aluFunc': 'ALU_ADD', 'fuType': 'MEM', 'instType': 'IMM_I', 'fuOp': 'LB'}\n",
      "{'pat': '??????? ????? ????? 001 ????? 00000 11', 'name': 'lh', 'invalid': 'N', 'regWe': 'Y', 'src1Type': 'REG', 'src2Type': 'IMM', 'aluFunc': 'ALU_ADD', 'fuType': 'MEM', 'instType': 'IMM_I', 'fuOp': 'LH'}\n",
      "{'pat': '??????? ????? ????? 010 ????? 00000 11', 'name': 'lw', 'invalid': 'N', 'regWe': 'Y', 'src1Type': 'REG', 'src2Type': 'IMM', 'aluFunc': 'ALU_ADD', 'fuType': 'MEM', 'instType': 'IMM_I', 'fuOp': 'LW'}\n",
      "{'pat': '??????? ????? ????? 100 ????? 00000 11', 'name': 'lbu', 'invalid': 'N', 'regWe': 'Y', 'src1Type': 'REG', 'src2Type': 'IMM', 'aluFunc': 'ALU_ADD', 'fuType': 'MEM', 'instType': 'IMM_I', 'fuOp': 'LBU'}\n",
      "{'pat': '??????? ????? ????? 101 ????? 00000 11', 'name': 'lhu', 'invalid': 'N', 'regWe': 'Y', 'src1Type': 'REG', 'src2Type': 'IMM', 'aluFunc': 'ALU_ADD', 'fuType': 'MEM', 'instType': 'IMM_I', 'fuOp': 'LHU'}\n",
      "{'pat': '??????? ????? ????? 000 ????? 01000 11', 'name': 'sb', 'invalid': 'N', 'regWe': 'N', 'src1Type': 'REG', 'src2Type': 'IMM', 'aluFunc': 'ALU_ADD', 'fuType': 'MEM', 'instType': 'IMM_S', 'fuOp': 'SB '}\n",
      "{'pat': '??????? ????? ????? 001 ????? 01000 11', 'name': 'sh', 'invalid': 'N', 'regWe': 'N', 'src1Type': 'REG', 'src2Type': 'IMM', 'aluFunc': 'ALU_ADD', 'fuType': 'MEM', 'instType': 'IMM_S', 'fuOp': 'SH'}\n",
      "{'pat': '??????? ????? ????? 010 ????? 01000 11', 'name': 'sw', 'invalid': 'N', 'regWe': 'N', 'src1Type': 'REG', 'src2Type': 'IMM', 'aluFunc': 'ALU_ADD', 'fuType': 'MEM', 'instType': 'IMM_S', 'fuOp': 'SW'}\n",
      "{'pat': '??????? ????? ????? 000 ????? 00100 11', 'name': 'addi', 'invalid': 'N', 'regWe': 'Y', 'src1Type': 'REG', 'src2Type': 'IMM', 'aluFunc': 'ALU_ADD', 'fuType': 'ALU', 'instType': 'IMM_I', 'fuOp': 'OP_X'}\n",
      "{'pat': '??????? ????? ????? 010 ????? 00100 11', 'name': 'slti', 'invalid': 'N', 'regWe': 'Y', 'src1Type': 'REG', 'src2Type': 'IMM', 'aluFunc': 'ALU_LT', 'fuType': 'ALU', 'instType': 'IMM_I', 'fuOp': 'OP_X'}\n",
      "{'pat': '??????? ????? ????? 011 ????? 00100 11', 'name': 'sltiu', 'invalid': 'N', 'regWe': 'Y', 'src1Type': 'REG', 'src2Type': 'IMM', 'aluFunc': 'ALU_LTU', 'fuType': 'ALU', 'instType': 'IMM_I', 'fuOp': 'OP_X'}\n",
      "{'pat': '??????? ????? ????? 100 ????? 00100 11', 'name': 'xori', 'invalid': 'N', 'regWe': 'Y', 'src1Type': 'REG', 'src2Type': 'IMM', 'aluFunc': 'ALU_XOR', 'fuType': 'ALU', 'instType': 'IMM_I', 'fuOp': 'OP_X'}\n",
      "{'pat': '??????? ????? ????? 110 ????? 00100 11', 'name': 'ori', 'invalid': 'N', 'regWe': 'Y', 'src1Type': 'REG', 'src2Type': 'IMM', 'aluFunc': 'ALU_OR', 'fuType': 'ALU', 'instType': 'IMM_I', 'fuOp': 'OP_X'}\n",
      "{'pat': '??????? ????? ????? 111 ????? 00100 11', 'name': 'andi', 'invalid': 'N', 'regWe': 'Y', 'src1Type': 'REG', 'src2Type': 'IMM', 'aluFunc': 'ALU_AND', 'fuType': 'ALU', 'instType': 'IMM_I', 'fuOp': 'OP_X'}\n",
      "{'pat': '0000000 ????? ????? 001 ????? 00100 11', 'name': 'slli', 'invalid': 'N', 'regWe': 'Y', 'src1Type': 'REG', 'src2Type': 'IMM', 'aluFunc': 'ALU_LEFT', 'fuType': 'ALU', 'instType': 'IMM_I', 'fuOp': 'OP_X'}\n",
      "{'pat': '0000000 ????? ????? 101 ????? 00100 11', 'name': 'srli', 'invalid': 'N', 'regWe': 'Y', 'src1Type': 'REG', 'src2Type': 'IMM', 'aluFunc': 'ALU_RIGHT', 'fuType': 'ALU', 'instType': 'IMM_I', 'fuOp': 'OP_X'}\n",
      "{'pat': '0100000 ????? ????? 101 ????? 00100 11', 'name': 'srai', 'invalid': 'N', 'regWe': 'Y', 'src1Type': 'REG', 'src2Type': 'IMM', 'aluFunc': 'ALU_ARITH', 'fuType': 'ALU', 'instType': 'IMM_I', 'fuOp': 'OP_X'}\n",
      "{'pat': '0000000 ????? ????? 000 ????? 01100 11', 'name': 'add', 'invalid': 'N', 'regWe': 'Y', 'src1Type': 'REG', 'src2Type': 'REG', 'aluFunc': 'ALU_ADD', 'fuType': 'ALU', 'instType': 'IMM_R', 'fuOp': 'OP_X'}\n",
      "{'pat': '0100000 ????? ????? 000 ????? 01100 11', 'name': 'sub', 'invalid': 'N', 'regWe': 'Y', 'src1Type': 'REG', 'src2Type': 'REG', 'aluFunc': 'ALU_SUB', 'fuType': 'ALU', 'instType': 'IMM_R', 'fuOp': 'OP_X'}\n",
      "{'pat': '0000000 ????? ????? 001 ????? 01100 11', 'name': 'sll', 'invalid': 'N', 'regWe': 'Y', 'src1Type': 'REG', 'src2Type': 'REG', 'aluFunc': 'ALU_LEFT', 'fuType': 'ALU', 'instType': 'IMM_R', 'fuOp': 'OP_X'}\n",
      "{'pat': '0000000 ????? ????? 010 ????? 01100 11', 'name': 'slt', 'invalid': 'N', 'regWe': 'Y', 'src1Type': 'REG', 'src2Type': 'REG', 'aluFunc': 'ALU_LT', 'fuType': 'ALU', 'instType': 'IMM_R', 'fuOp': 'OP_X'}\n",
      "{'pat': '0000000 ????? ????? 011 ????? 01100 11', 'name': 'sltu', 'invalid': 'N', 'regWe': 'Y', 'src1Type': 'REG', 'src2Type': 'REG', 'aluFunc': 'ALU_LTU', 'fuType': 'ALU', 'instType': 'IMM_R', 'fuOp': 'OP_X'}\n",
      "{'pat': '0000000 ????? ????? 100 ????? 01100 11', 'name': 'xor', 'invalid': 'N', 'regWe': 'Y', 'src1Type': 'REG', 'src2Type': 'REG', 'aluFunc': 'ALU_XOR', 'fuType': 'ALU', 'instType': 'IMM_R', 'fuOp': 'OP_X'}\n",
      "{'pat': '0000000 ????? ????? 101 ????? 01100 11', 'name': 'srl', 'invalid': 'N', 'regWe': 'Y', 'src1Type': 'REG', 'src2Type': 'REG', 'aluFunc': 'ALU_RIGHT', 'fuType': 'ALU', 'instType': 'IMM_R', 'fuOp': 'OP_X'}\n",
      "{'pat': '0100000 ????? ????? 101 ????? 01100 11', 'name': 'sra', 'invalid': 'N', 'regWe': 'Y', 'src1Type': 'REG', 'src2Type': 'REG', 'aluFunc': 'ALU_ARITH', 'fuType': 'ALU', 'instType': 'IMM_R', 'fuOp': 'OP_X'}\n",
      "{'pat': '0000000 ????? ????? 110 ????? 01100 11', 'name': 'or', 'invalid': 'N', 'regWe': 'Y', 'src1Type': 'REG', 'src2Type': 'REG', 'aluFunc': 'ALU_OR', 'fuType': 'ALU', 'instType': 'IMM_R', 'fuOp': 'OP_X'}\n",
      "{'pat': '0000000 ????? ????? 111 ????? 01100 11', 'name': 'and', 'invalid': 'N', 'regWe': 'Y', 'src1Type': 'REG', 'src2Type': 'REG', 'aluFunc': 'ALU_AND', 'fuType': 'ALU', 'instType': 'IMM_R', 'fuOp': 'OP_X'}\n",
      "{'pat': '0000000 00000 00000 000 00000 11100 11', 'name': 'ecall', 'invalid': 'N', 'regWe': 'N', 'src1Type': 'ZERO', 'src2Type': 'ZERO', 'aluFunc': 'ALU_X', 'fuType': 'CSR', 'instType': 'IMM_X', 'fuOp': 'ECALL'}\n",
      "{'pat': '0000000 00001 00000 000 00000 11100 11', 'name': 'ebreak', 'invalid': 'N', 'regWe': 'N', 'src1Type': 'ZERO', 'src2Type': 'ZERO', 'aluFunc': 'ALU_X', 'fuType': 'CSR', 'instType': 'IMM_X', 'fuOp': 'EBREAK'}\n",
      "{'pat': '??????? ????? ????? 001 ????? 11100 11', 'name': 'csrrw', 'invalid': 'N', 'regWe': 'Y', 'src1Type': 'REG', 'src2Type': 'ZERO', 'aluFunc': 'ALU_ADD', 'fuType': 'CSR', 'instType': 'IMM_I', 'fuOp': 'CSRW'}\n",
      "{'pat': '??????? ????? ????? 010 ????? 11100 11', 'name': 'csrrs', 'invalid': 'N', 'regWe': 'Y', 'src1Type': 'REG', 'src2Type': 'ZERO', 'aluFunc': 'ALU_ADD', 'fuType': 'CSR', 'instType': 'IMM_I', 'fuOp': 'CSRR'}\n",
      "{'pat': '0011000 00010 00000 000 00000 11100 11', 'name': 'mret', 'invalid': 'N', 'regWe': 'N', 'src1Type': 'ZERO', 'src2Type': 'ZERO', 'aluFunc': 'ALU_X', 'fuType': 'CSR', 'instType': 'IMM_X', 'fuOp': 'MRET'}\n"
     ]
    }
   ],
   "source": [
    "for i in insts:\n",
    "    print(i)"
   ]
  },
  {
   "cell_type": "code",
   "execution_count": 145,
   "metadata": {},
   "outputs": [
    {
     "name": "stdout",
     "output_type": "stream",
     "text": [
      "val invalid = UInt(1.W)\n",
      "val regWe = UInt(1.W)\n",
      "val src1Type = UInt(4.W)\n",
      "val src2Type = UInt(3.W)\n",
      "val aluFunc = UInt(7.W)\n",
      "val fuType = UInt(3.W)\n",
      "val instType = UInt(5.W)\n",
      "val fuOp = UInt(4.W)\n"
     ]
    }
   ],
   "source": [
    "class Signal:\n",
    "    l: int = 0\n",
    "    r: int = 0\n",
    "    name: str = \"\"\n",
    "\n",
    "\n",
    "offset = 0\n",
    "signals = {}\n",
    "for k, v in insts[0].items():\n",
    "    if k == \"pat\" or k == \"name\":\n",
    "        continue\n",
    "    signal = Signal()\n",
    "    signals[k] = signal\n",
    "    signal.name = k\n",
    "    signal.l = offset\n",
    "    signal.r = offset + len(v) - 1\n",
    "    offset += len(v)\n",
    "    print(f\"val {k} = UInt({len(v)}.W)\")\n",
    "control_len = offset"
   ]
  },
  {
   "cell_type": "code",
   "execution_count": 146,
   "metadata": {},
   "outputs": [
    {
     "name": "stdout",
     "output_type": "stream",
     "text": [
      "BitPat(\"b??????? ????? ????? ??? ????? 01101 11\") -> List(N, Y, ZERO, IMM, ALU_ADD, ALU, IMM_U, OP_X),\n",
      "BitPat(\"b??????? ????? ????? ??? ????? 00101 11\") -> List(N, Y, PC, IMM, ALU_ADD, ALU, IMM_U, OP_X),\n",
      "BitPat(\"b??????? ????? ????? ??? ????? 11011 11\") -> List(N, Y, PC, IMM, ALU_ADD, BRU, IMM_J, JUMP),\n",
      "BitPat(\"b??????? ????? ????? ??? ????? 11001 11\") -> List(N, Y, REG, IMM, ALU_ADD, BRU, IMM_I, JUMP),\n",
      "BitPat(\"b??????? ????? ????? 000 ????? 11000 11\") -> List(N, N, REG, REG, ALU_EQ, BRU, IMM_B, BRANCH),\n",
      "BitPat(\"b??????? ????? ????? 001 ????? 11000 11\") -> List(N, N, REG, REG, ALU_NE, BRU, IMM_B, BRANCH),\n",
      "BitPat(\"b??????? ????? ????? 100 ????? 11000 11\") -> List(N, N, REG, REG, ALU_LT, BRU, IMM_B, BRANCH),\n",
      "BitPat(\"b??????? ????? ????? 101 ????? 11000 11\") -> List(N, N, REG, REG, ALU_GE, BRU, IMM_B, BRANCH),\n",
      "BitPat(\"b??????? ????? ????? 110 ????? 11000 11\") -> List(N, N, REG, REG, ALU_LTU, BRU, IMM_B, BRANCH),\n",
      "BitPat(\"b??????? ????? ????? 111 ????? 11000 11\") -> List(N, N, REG, REG, ALU_GEU, BRU, IMM_B, BRANCH),\n",
      "BitPat(\"b??????? ????? ????? 000 ????? 00000 11\") -> List(N, Y, REG, IMM, ALU_ADD, MEM, IMM_I, LB),\n",
      "BitPat(\"b??????? ????? ????? 001 ????? 00000 11\") -> List(N, Y, REG, IMM, ALU_ADD, MEM, IMM_I, LH),\n",
      "BitPat(\"b??????? ????? ????? 010 ????? 00000 11\") -> List(N, Y, REG, IMM, ALU_ADD, MEM, IMM_I, LW),\n",
      "BitPat(\"b??????? ????? ????? 100 ????? 00000 11\") -> List(N, Y, REG, IMM, ALU_ADD, MEM, IMM_I, LBU),\n",
      "BitPat(\"b??????? ????? ????? 101 ????? 00000 11\") -> List(N, Y, REG, IMM, ALU_ADD, MEM, IMM_I, LHU),\n",
      "BitPat(\"b??????? ????? ????? 000 ????? 01000 11\") -> List(N, N, REG, IMM, ALU_ADD, MEM, IMM_S, SB ),\n",
      "BitPat(\"b??????? ????? ????? 001 ????? 01000 11\") -> List(N, N, REG, IMM, ALU_ADD, MEM, IMM_S, SH),\n",
      "BitPat(\"b??????? ????? ????? 010 ????? 01000 11\") -> List(N, N, REG, IMM, ALU_ADD, MEM, IMM_S, SW),\n",
      "BitPat(\"b??????? ????? ????? 000 ????? 00100 11\") -> List(N, Y, REG, IMM, ALU_ADD, ALU, IMM_I, OP_X),\n",
      "BitPat(\"b??????? ????? ????? 010 ????? 00100 11\") -> List(N, Y, REG, IMM, ALU_LT, ALU, IMM_I, OP_X),\n",
      "BitPat(\"b??????? ????? ????? 011 ????? 00100 11\") -> List(N, Y, REG, IMM, ALU_LTU, ALU, IMM_I, OP_X),\n",
      "BitPat(\"b??????? ????? ????? 100 ????? 00100 11\") -> List(N, Y, REG, IMM, ALU_XOR, ALU, IMM_I, OP_X),\n",
      "BitPat(\"b??????? ????? ????? 110 ????? 00100 11\") -> List(N, Y, REG, IMM, ALU_OR, ALU, IMM_I, OP_X),\n",
      "BitPat(\"b??????? ????? ????? 111 ????? 00100 11\") -> List(N, Y, REG, IMM, ALU_AND, ALU, IMM_I, OP_X),\n",
      "BitPat(\"b0000000 ????? ????? 001 ????? 00100 11\") -> List(N, Y, REG, IMM, ALU_LEFT, ALU, IMM_I, OP_X),\n",
      "BitPat(\"b0000000 ????? ????? 101 ????? 00100 11\") -> List(N, Y, REG, IMM, ALU_RIGHT, ALU, IMM_I, OP_X),\n",
      "BitPat(\"b0100000 ????? ????? 101 ????? 00100 11\") -> List(N, Y, REG, IMM, ALU_ARITH, ALU, IMM_I, OP_X),\n",
      "BitPat(\"b0000000 ????? ????? 000 ????? 01100 11\") -> List(N, Y, REG, REG, ALU_ADD, ALU, IMM_R, OP_X),\n",
      "BitPat(\"b0100000 ????? ????? 000 ????? 01100 11\") -> List(N, Y, REG, REG, ALU_SUB, ALU, IMM_R, OP_X),\n",
      "BitPat(\"b0000000 ????? ????? 001 ????? 01100 11\") -> List(N, Y, REG, REG, ALU_LEFT, ALU, IMM_R, OP_X),\n",
      "BitPat(\"b0000000 ????? ????? 010 ????? 01100 11\") -> List(N, Y, REG, REG, ALU_LT, ALU, IMM_R, OP_X),\n",
      "BitPat(\"b0000000 ????? ????? 011 ????? 01100 11\") -> List(N, Y, REG, REG, ALU_LTU, ALU, IMM_R, OP_X),\n",
      "BitPat(\"b0000000 ????? ????? 100 ????? 01100 11\") -> List(N, Y, REG, REG, ALU_XOR, ALU, IMM_R, OP_X),\n",
      "BitPat(\"b0000000 ????? ????? 101 ????? 01100 11\") -> List(N, Y, REG, REG, ALU_RIGHT, ALU, IMM_R, OP_X),\n",
      "BitPat(\"b0100000 ????? ????? 101 ????? 01100 11\") -> List(N, Y, REG, REG, ALU_ARITH, ALU, IMM_R, OP_X),\n",
      "BitPat(\"b0000000 ????? ????? 110 ????? 01100 11\") -> List(N, Y, REG, REG, ALU_OR, ALU, IMM_R, OP_X),\n",
      "BitPat(\"b0000000 ????? ????? 111 ????? 01100 11\") -> List(N, Y, REG, REG, ALU_AND, ALU, IMM_R, OP_X),\n",
      "BitPat(\"b0000000 00000 00000 000 00000 11100 11\") -> List(N, N, ZERO, ZERO, ALU_X, CSR, IMM_X, ECALL),\n",
      "BitPat(\"b0000000 00001 00000 000 00000 11100 11\") -> List(N, N, ZERO, ZERO, ALU_X, CSR, IMM_X, EBREAK),\n",
      "BitPat(\"b??????? ????? ????? 001 ????? 11100 11\") -> List(N, Y, REG, ZERO, ALU_ADD, CSR, IMM_I, CSRW),\n",
      "BitPat(\"b??????? ????? ????? 010 ????? 11100 11\") -> List(N, Y, REG, ZERO, ALU_ADD, CSR, IMM_I, CSRR),\n",
      "BitPat(\"b0011000 00010 00000 000 00000 11100 11\") -> List(N, N, ZERO, ZERO, ALU_X, CSR, IMM_X, MRET),\n"
     ]
    }
   ],
   "source": [
    "isa = {}\n",
    "for i in insts:\n",
    "    Value = str()\n",
    "    for k, v in i.items():\n",
    "        if k == \"name\" or k == \"pat\":\n",
    "            continue\n",
    "        Value += v + (\", \" if k != \"fuOp\" else \"\")\n",
    "    print(f'BitPat(\"b{i[\"pat\"]}\") -> List({Value}),')\n",
    "    i[\"control\"] = Value\n",
    "    isa[i[\"name\"]] = {\"pat\": i[\"pat\"], \"ctl\": Value}"
   ]
  },
  {
   "cell_type": "code",
   "execution_count": 147,
   "metadata": {},
   "outputs": [
    {
     "name": "stdout",
     "output_type": "stream",
     "text": [
      "b1???????????????????????????\n"
     ]
    }
   ],
   "source": [
    "invalid = [\"?\" for i in range(control_len)]\n",
    "invalid[signals[\"invalid\"].l] = \"1\"\n",
    "invalid = \"\".join(invalid)\n",
    "isa[\"invalid\"] = {\"pat\": \"\", \"ctl\": invalid}\n",
    "print(\"b\" + isa[\"invalid\"][\"ctl\"])"
   ]
  }
 ],
 "metadata": {
  "kernelspec": {
   "display_name": "base",
   "language": "python",
   "name": "python3"
  },
  "language_info": {
   "codemirror_mode": {
    "name": "ipython",
    "version": 3
   },
   "file_extension": ".py",
   "mimetype": "text/x-python",
   "name": "python",
   "nbconvert_exporter": "python",
   "pygments_lexer": "ipython3",
   "version": "3.11.5"
  }
 },
 "nbformat": 4,
 "nbformat_minor": 2
}
